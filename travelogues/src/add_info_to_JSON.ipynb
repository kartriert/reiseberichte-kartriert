{
 "cells": [
  {
   "cell_type": "markdown",
   "source": [
    "## Adding missing informtion to JSON files.\n",
    "\n",
    "\n",
    "[Format](https://en.wikipedia.org/wiki/GeoJSON)"
   ],
   "metadata": {
    "collapsed": false
   }
  },
  {
   "cell_type": "code",
   "execution_count": 1,
   "outputs": [],
   "source": [
    "import json\n",
    "import glob\n",
    "import os\n",
    "\n",
    "import geocoder"
   ],
   "metadata": {
    "collapsed": false
   }
  },
  {
   "cell_type": "code",
   "execution_count": null,
   "outputs": [],
   "source": [
    "# Enter the filename if you want to process only a single file.\n",
    "for file in glob.glob('../data/output/text_ner/Z114800707.json'):\n",
    "    with open (file, 'r') as f:\n",
    "        json_file = json.load(f)\n",
    "        for feature in json_file[\"features\"]:\n",
    "            feature_label = feature[\"properties\"][\"source_label\"]\n",
    "            # With GeoNames URL\n",
    "            if feature[\"properties\"][\"url\"] == \"https://www.geonames.org/None\":\n",
    "                g = geocoder.geonames(feature_label, key='kartriert')\n",
    "                feature[\"properties\"][\"url\"] = \"https://www.geonames.org/\" + str(g.geonames_id)\n",
    "\n",
    "            json_dump = json.dumps(json_file, indent=4)\n",
    "            with open('../data/output/text_ner/with_url/' + os.path.basename(file), 'w') as f_w:\n",
    "                f_w.write(json_dump)"
   ],
   "metadata": {
    "collapsed": false,
    "pycharm": {
     "is_executing": true
    }
   }
  }
 ],
 "metadata": {
  "kernelspec": {
   "display_name": "Python 3",
   "language": "python",
   "name": "python3"
  },
  "language_info": {
   "codemirror_mode": {
    "name": "ipython",
    "version": 2
   },
   "file_extension": ".py",
   "mimetype": "text/x-python",
   "name": "python",
   "nbconvert_exporter": "python",
   "pygments_lexer": "ipython2",
   "version": "2.7.6"
  }
 },
 "nbformat": 4,
 "nbformat_minor": 0
}
