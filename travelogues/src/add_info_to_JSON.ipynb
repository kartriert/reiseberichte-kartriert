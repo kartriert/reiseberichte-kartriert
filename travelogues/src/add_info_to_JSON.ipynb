{
 "cells": [
  {
   "cell_type": "markdown",
   "source": [
    "## Adding missing informtion to JSON files.\n",
    "\n",
    "\n",
    "[Format](https://en.wikipedia.org/wiki/GeoJSON)"
   ],
   "metadata": {
    "collapsed": false
   }
  },
  {
   "cell_type": "code",
   "execution_count": 1,
   "outputs": [],
   "source": [
    "import json\n",
    "import glob\n",
    "import os\n",
    "\n",
    "import geocoder"
   ],
   "metadata": {
    "collapsed": false
   }
  },
  {
   "cell_type": "code",
   "execution_count": 9,
   "outputs": [],
   "source": [
    "for file in glob.glob('../data/output/text_ner/*.json'):\n",
    "    with open (file, 'r') as f:\n",
    "        json_file = json.load(f)\n",
    "        for feature in json_file[\"features\"]:\n",
    "            feature_label = feature[\"properties\"][\"source_label\"]\n",
    "            #g = geocoder.geonames(feature_label, key='kartriert')\n",
    "            #feature[\"properties\"][\"url\"] = \"https://www.geonames.org/\" + str(g.geonames_id)\n",
    "            feature[\"properties\"][\"url\"] = \"https://www.geonames.org/None\"\n",
    "\n",
    "        json_dump = json.dumps(json_file, indent=4)\n",
    "        with open('../data/output/text_ner/with_url/' + os.path.basename(file), 'w') as f_w:\n",
    "            f_w.write(json_dump)\n"
   ],
   "metadata": {
    "collapsed": false
   }
  },
  {
   "cell_type": "code",
   "execution_count": null,
   "outputs": [],
   "source": [],
   "metadata": {
    "collapsed": false
   }
  }
 ],
 "metadata": {
  "kernelspec": {
   "display_name": "Python 3",
   "language": "python",
   "name": "python3"
  },
  "language_info": {
   "codemirror_mode": {
    "name": "ipython",
    "version": 2
   },
   "file_extension": ".py",
   "mimetype": "text/x-python",
   "name": "python",
   "nbconvert_exporter": "python",
   "pygments_lexer": "ipython2",
   "version": "2.7.6"
  }
 },
 "nbformat": 4,
 "nbformat_minor": 0
}
