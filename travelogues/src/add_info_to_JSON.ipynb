{
 "cells": [
  {
   "cell_type": "markdown",
   "source": [
    "## Adding missing information to JSON files.\n",
    "\n",
    "This little Jupyter Notebook can be used to add missing information to already existing GeoJSON files from our repository. It was and will further be applied during our [semi-automatic post-processing pipeline](../README.md#manual-post-correction-for-geojson-files).\n",
    "\n",
    "Two things can be done:\n",
    "* Sending requests to the Geonames API for retrieving additional information. In this case, we mainly focused on obtaining the features' URLs and coordinates but others can be added. Please consider: Geonames has an API rate limit of 1000 call per hour.\n",
    "* Correcting entries from the GeoJSONs. This part focuses frequent errors in entries from the files that can then be half-automatically corrected using a manual input in form of a dictionary with the missing information. More about this can be read in the DOCSTRING of the function. An example when this would be useful:\n",
    "    * In the file Z114800707.json, the feature \"constantinopel\" could not be found via the Geonames API. However, a manual research delivers results for Istanbul (also called Constantinople/Konstantinopel when it was capital of the Roman Empire). The results can be saved in a Python dictionary of the following sort:\n",
    "      ``` {\"rodda\": {\"url\": \"https://www.geonames.org/350173\", \"coordinates\": [\"31.22598\", \"30.02255\"]}, \"dsjise\": {\"url\": \"https://www.geonames.org/360995\", \"coordinates\": [\"31.20861\", \"30.00944\"]}, \"masr el atik\": {\"url\": \"https://www.geonames.org/360630\", \"coordinates\": [\"31.24967\",\"30.06263\"]}} ```\n",
    "    The script will then overwrite the information for all occurrences.\n",
    "\n",
    "We used this [format](https://en.wikipedia.org/wiki/GeoJSON) for creating and completing the GeoJSON files."
   ],
   "metadata": {
    "collapsed": false
   }
  },
  {
   "cell_type": "code",
   "execution_count": 2,
   "outputs": [],
   "source": [
    "import json\n",
    "import glob\n",
    "import os\n",
    "\n",
    "import geocoder"
   ],
   "metadata": {
    "collapsed": false
   }
  },
  {
   "cell_type": "code",
   "execution_count": 1,
   "outputs": [],
   "source": [
    "METADATA_NER_PATH: str = '../data/output/titles_ner_tagged_jsons/'\n",
    "TEXT_NER_PATH: str = '../data/output/text_ner/'"
   ],
   "metadata": {
    "collapsed": false
   }
  },
  {
   "cell_type": "code",
   "execution_count": 3,
   "outputs": [],
   "source": [
    "def add_info(multiple_files: bool = True,\n",
    "             filename: str = \"Z114800707\",\n",
    "             geonames_request: bool = True,\n",
    "             correct_entries: bool = False,\n",
    "             corrections: dict = None,\n",
    "             ) -> None:\n",
    "    \"\"\"\n",
    "    Function for adding additional information to existing GeoJSON files or correcting multiple entries at once.\n",
    "    :param multiple_files: Boolean value that defines whether multiple files at ones should be corrected or only one.\n",
    "    :param filename: Name of the GeoJSON file that needs to be corrected (only if multiple_files is False). Default is one of the files @sarahondraszek corrected.\n",
    "    :param geonames_request: Boolean value that defines whether an API request @ Geonames should be performed. Default is True.\n",
    "    :param correct_entries: Boolean value defining whether entries should be corrected. Default is False.\n",
    "    :param corrections: Dictionary of all entries that need to be corrected. Default value is None.\n",
    "    Format is the following: {source_label: {\"url\": \"XYZ\", \"coordinates\": [null, null]}, ...}\n",
    "    :return: None. File will be saved under the same alias as before.\n",
    "    \"\"\"\n",
    "\n",
    "    if corrections is None:\n",
    "        corrections = {\"oberegypten\": {\"url\": \"https://www.geonames.org/359888\", \"coordinates\": [\"32\", \"26\"]}}\n",
    "\n",
    "    if multiple_files:\n",
    "        file_indicator = \"*\"\n",
    "    else:\n",
    "        file_indicator = filename\n",
    "\n",
    "    for file in glob.glob(TEXT_NER_PATH + file_indicator + '.json'):\n",
    "        with open(file, 'r') as f:\n",
    "            json_file = json.load(f)\n",
    "            for feature in json_file[\"features\"]:\n",
    "                feature_label = feature[\"properties\"][\"source_label\"]\n",
    "                if geonames_request:\n",
    "                    # With GeoNames URL placeholder\n",
    "                    if feature[\"properties\"][\"url\"] == \"https://www.geonames.org/None\":\n",
    "                        g = geocoder.geonames(feature_label, key='kartriert')\n",
    "                        feature[\"properties\"][\"url\"] = \"https://www.geonames.org/\" + str(g.geonames_id)\n",
    "                        feature[\"geometry\"][\"coordinates\"] = [g.lng, g.lat]\n",
    "\n",
    "                if correct_entries:\n",
    "                    for label in corrections.keys():\n",
    "                        if feature_label == label:\n",
    "                            feature[\"properties\"][\"url\"] = corrections[label][\"url\"]\n",
    "                            feature[\"geometry\"][\"coordinates\"] = corrections[label][\"coordinates\"]\n",
    "\n",
    "                json_dump = json.dumps(json_file, indent=4)\n",
    "                with open('../data/output/text_ner/with_url/' + os.path.basename(file), 'w') as f_w:\n",
    "                    f_w.write(json_dump)"
   ],
   "metadata": {
    "collapsed": false
   }
  },
  {
   "cell_type": "code",
   "execution_count": 4,
   "outputs": [],
   "source": [
    "# Please adjust the execution of the function according to your needs.\n",
    "add_info(\n",
    "    multiple_files=False,\n",
    "    geonames_request=False,\n",
    "    correct_entries=True,\n",
    "    corrections={\"mochha\": {\"url\": \"https://www.geonames.org/7086188\", \"coordinates\": [\"73.36598\", \"33.71494\"]},\n",
    "                 }\n",
    ")"
   ],
   "metadata": {
    "collapsed": false
   }
  }
 ],
 "metadata": {
  "kernelspec": {
   "display_name": "Python 3",
   "language": "python",
   "name": "python3"
  },
  "language_info": {
   "codemirror_mode": {
    "name": "ipython",
    "version": 2
   },
   "file_extension": ".py",
   "mimetype": "text/x-python",
   "name": "python",
   "nbconvert_exporter": "python",
   "pygments_lexer": "ipython2",
   "version": "2.7.6"
  }
 },
 "nbformat": 4,
 "nbformat_minor": 0
}
