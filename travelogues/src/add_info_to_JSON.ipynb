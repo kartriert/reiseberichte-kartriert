{
 "cells": [
  {
   "cell_type": "markdown",
   "source": [
    "## Adding missing informtion to JSON files.\n",
    "\n",
    "\n",
    "[Format](https://en.wikipedia.org/wiki/GeoJSON)"
   ],
   "metadata": {
    "collapsed": false
   }
  },
  {
   "cell_type": "code",
   "execution_count": 11,
   "outputs": [],
   "source": [
    "import json\n",
    "import glob\n",
    "import os\n",
    "\n",
    "import geocoder"
   ],
   "metadata": {
    "collapsed": false
   }
  },
  {
   "cell_type": "code",
   "execution_count": 18,
   "outputs": [
    {
     "name": "stderr",
     "output_type": "stream",
     "text": [
      "Error the hourly limit of 1000 credits for sarahondraszek has been exceeded. Please throttle your requests or use the commercial service. from JSON {'status': {'message': 'the hourly limit of 1000 credits for sarahondraszek has been exceeded. Please throttle your requests or use the commercial service.', 'value': 19}}\n",
      "Error the hourly limit of 1000 credits for sarahondraszek has been exceeded. Please throttle your requests or use the commercial service. from JSON {'status': {'message': 'the hourly limit of 1000 credits for sarahondraszek has been exceeded. Please throttle your requests or use the commercial service.', 'value': 19}}\n",
      "Error the hourly limit of 1000 credits for sarahondraszek has been exceeded. Please throttle your requests or use the commercial service. from JSON {'status': {'message': 'the hourly limit of 1000 credits for sarahondraszek has been exceeded. Please throttle your requests or use the commercial service.', 'value': 19}}\n",
      "Error the hourly limit of 1000 credits for sarahondraszek has been exceeded. Please throttle your requests or use the commercial service. from JSON {'status': {'message': 'the hourly limit of 1000 credits for sarahondraszek has been exceeded. Please throttle your requests or use the commercial service.', 'value': 19}}\n",
      "Error the hourly limit of 1000 credits for sarahondraszek has been exceeded. Please throttle your requests or use the commercial service. from JSON {'status': {'message': 'the hourly limit of 1000 credits for sarahondraszek has been exceeded. Please throttle your requests or use the commercial service.', 'value': 19}}\n",
      "Error the hourly limit of 1000 credits for sarahondraszek has been exceeded. Please throttle your requests or use the commercial service. from JSON {'status': {'message': 'the hourly limit of 1000 credits for sarahondraszek has been exceeded. Please throttle your requests or use the commercial service.', 'value': 19}}\n",
      "Error the hourly limit of 1000 credits for sarahondraszek has been exceeded. Please throttle your requests or use the commercial service. from JSON {'status': {'message': 'the hourly limit of 1000 credits for sarahondraszek has been exceeded. Please throttle your requests or use the commercial service.', 'value': 19}}\n",
      "Error the hourly limit of 1000 credits for sarahondraszek has been exceeded. Please throttle your requests or use the commercial service. from JSON {'status': {'message': 'the hourly limit of 1000 credits for sarahondraszek has been exceeded. Please throttle your requests or use the commercial service.', 'value': 19}}\n",
      "Error the hourly limit of 1000 credits for sarahondraszek has been exceeded. Please throttle your requests or use the commercial service. from JSON {'status': {'message': 'the hourly limit of 1000 credits for sarahondraszek has been exceeded. Please throttle your requests or use the commercial service.', 'value': 19}}\n",
      "Error the hourly limit of 1000 credits for sarahondraszek has been exceeded. Please throttle your requests or use the commercial service. from JSON {'status': {'message': 'the hourly limit of 1000 credits for sarahondraszek has been exceeded. Please throttle your requests or use the commercial service.', 'value': 19}}\n",
      "Error the hourly limit of 1000 credits for sarahondraszek has been exceeded. Please throttle your requests or use the commercial service. from JSON {'status': {'message': 'the hourly limit of 1000 credits for sarahondraszek has been exceeded. Please throttle your requests or use the commercial service.', 'value': 19}}\n",
      "Error the hourly limit of 1000 credits for sarahondraszek has been exceeded. Please throttle your requests or use the commercial service. from JSON {'status': {'message': 'the hourly limit of 1000 credits for sarahondraszek has been exceeded. Please throttle your requests or use the commercial service.', 'value': 19}}\n",
      "Error the hourly limit of 1000 credits for sarahondraszek has been exceeded. Please throttle your requests or use the commercial service. from JSON {'status': {'message': 'the hourly limit of 1000 credits for sarahondraszek has been exceeded. Please throttle your requests or use the commercial service.', 'value': 19}}\n",
      "Error the hourly limit of 1000 credits for sarahondraszek has been exceeded. Please throttle your requests or use the commercial service. from JSON {'status': {'message': 'the hourly limit of 1000 credits for sarahondraszek has been exceeded. Please throttle your requests or use the commercial service.', 'value': 19}}\n",
      "Error the hourly limit of 1000 credits for sarahondraszek has been exceeded. Please throttle your requests or use the commercial service. from JSON {'status': {'message': 'the hourly limit of 1000 credits for sarahondraszek has been exceeded. Please throttle your requests or use the commercial service.', 'value': 19}}\n",
      "Error the hourly limit of 1000 credits for sarahondraszek has been exceeded. Please throttle your requests or use the commercial service. from JSON {'status': {'message': 'the hourly limit of 1000 credits for sarahondraszek has been exceeded. Please throttle your requests or use the commercial service.', 'value': 19}}\n",
      "Error the hourly limit of 1000 credits for sarahondraszek has been exceeded. Please throttle your requests or use the commercial service. from JSON {'status': {'message': 'the hourly limit of 1000 credits for sarahondraszek has been exceeded. Please throttle your requests or use the commercial service.', 'value': 19}}\n",
      "Error the hourly limit of 1000 credits for sarahondraszek has been exceeded. Please throttle your requests or use the commercial service. from JSON {'status': {'message': 'the hourly limit of 1000 credits for sarahondraszek has been exceeded. Please throttle your requests or use the commercial service.', 'value': 19}}\n",
      "Error the hourly limit of 1000 credits for sarahondraszek has been exceeded. Please throttle your requests or use the commercial service. from JSON {'status': {'message': 'the hourly limit of 1000 credits for sarahondraszek has been exceeded. Please throttle your requests or use the commercial service.', 'value': 19}}\n",
      "Error the hourly limit of 1000 credits for sarahondraszek has been exceeded. Please throttle your requests or use the commercial service. from JSON {'status': {'message': 'the hourly limit of 1000 credits for sarahondraszek has been exceeded. Please throttle your requests or use the commercial service.', 'value': 19}}\n",
      "Error the hourly limit of 1000 credits for sarahondraszek has been exceeded. Please throttle your requests or use the commercial service. from JSON {'status': {'message': 'the hourly limit of 1000 credits for sarahondraszek has been exceeded. Please throttle your requests or use the commercial service.', 'value': 19}}\n",
      "Error the hourly limit of 1000 credits for sarahondraszek has been exceeded. Please throttle your requests or use the commercial service. from JSON {'status': {'message': 'the hourly limit of 1000 credits for sarahondraszek has been exceeded. Please throttle your requests or use the commercial service.', 'value': 19}}\n",
      "Error the hourly limit of 1000 credits for sarahondraszek has been exceeded. Please throttle your requests or use the commercial service. from JSON {'status': {'message': 'the hourly limit of 1000 credits for sarahondraszek has been exceeded. Please throttle your requests or use the commercial service.', 'value': 19}}\n",
      "Error the hourly limit of 1000 credits for sarahondraszek has been exceeded. Please throttle your requests or use the commercial service. from JSON {'status': {'message': 'the hourly limit of 1000 credits for sarahondraszek has been exceeded. Please throttle your requests or use the commercial service.', 'value': 19}}\n",
      "Error the hourly limit of 1000 credits for sarahondraszek has been exceeded. Please throttle your requests or use the commercial service. from JSON {'status': {'message': 'the hourly limit of 1000 credits for sarahondraszek has been exceeded. Please throttle your requests or use the commercial service.', 'value': 19}}\n",
      "Error the hourly limit of 1000 credits for sarahondraszek has been exceeded. Please throttle your requests or use the commercial service. from JSON {'status': {'message': 'the hourly limit of 1000 credits for sarahondraszek has been exceeded. Please throttle your requests or use the commercial service.', 'value': 19}}\n",
      "Error the hourly limit of 1000 credits for sarahondraszek has been exceeded. Please throttle your requests or use the commercial service. from JSON {'status': {'message': 'the hourly limit of 1000 credits for sarahondraszek has been exceeded. Please throttle your requests or use the commercial service.', 'value': 19}}\n",
      "Error the hourly limit of 1000 credits for sarahondraszek has been exceeded. Please throttle your requests or use the commercial service. from JSON {'status': {'message': 'the hourly limit of 1000 credits for sarahondraszek has been exceeded. Please throttle your requests or use the commercial service.', 'value': 19}}\n",
      "Error the hourly limit of 1000 credits for sarahondraszek has been exceeded. Please throttle your requests or use the commercial service. from JSON {'status': {'message': 'the hourly limit of 1000 credits for sarahondraszek has been exceeded. Please throttle your requests or use the commercial service.', 'value': 19}}\n",
      "Error the hourly limit of 1000 credits for sarahondraszek has been exceeded. Please throttle your requests or use the commercial service. from JSON {'status': {'message': 'the hourly limit of 1000 credits for sarahondraszek has been exceeded. Please throttle your requests or use the commercial service.', 'value': 19}}\n",
      "Error the hourly limit of 1000 credits for sarahondraszek has been exceeded. Please throttle your requests or use the commercial service. from JSON {'status': {'message': 'the hourly limit of 1000 credits for sarahondraszek has been exceeded. Please throttle your requests or use the commercial service.', 'value': 19}}\n",
      "Error the hourly limit of 1000 credits for sarahondraszek has been exceeded. Please throttle your requests or use the commercial service. from JSON {'status': {'message': 'the hourly limit of 1000 credits for sarahondraszek has been exceeded. Please throttle your requests or use the commercial service.', 'value': 19}}\n",
      "Error the hourly limit of 1000 credits for sarahondraszek has been exceeded. Please throttle your requests or use the commercial service. from JSON {'status': {'message': 'the hourly limit of 1000 credits for sarahondraszek has been exceeded. Please throttle your requests or use the commercial service.', 'value': 19}}\n",
      "Error the hourly limit of 1000 credits for sarahondraszek has been exceeded. Please throttle your requests or use the commercial service. from JSON {'status': {'message': 'the hourly limit of 1000 credits for sarahondraszek has been exceeded. Please throttle your requests or use the commercial service.', 'value': 19}}\n",
      "Error the hourly limit of 1000 credits for sarahondraszek has been exceeded. Please throttle your requests or use the commercial service. from JSON {'status': {'message': 'the hourly limit of 1000 credits for sarahondraszek has been exceeded. Please throttle your requests or use the commercial service.', 'value': 19}}\n",
      "Error the hourly limit of 1000 credits for sarahondraszek has been exceeded. Please throttle your requests or use the commercial service. from JSON {'status': {'message': 'the hourly limit of 1000 credits for sarahondraszek has been exceeded. Please throttle your requests or use the commercial service.', 'value': 19}}\n",
      "Error the hourly limit of 1000 credits for sarahondraszek has been exceeded. Please throttle your requests or use the commercial service. from JSON {'status': {'message': 'the hourly limit of 1000 credits for sarahondraszek has been exceeded. Please throttle your requests or use the commercial service.', 'value': 19}}\n",
      "Error the hourly limit of 1000 credits for sarahondraszek has been exceeded. Please throttle your requests or use the commercial service. from JSON {'status': {'message': 'the hourly limit of 1000 credits for sarahondraszek has been exceeded. Please throttle your requests or use the commercial service.', 'value': 19}}\n",
      "Error the hourly limit of 1000 credits for sarahondraszek has been exceeded. Please throttle your requests or use the commercial service. from JSON {'status': {'message': 'the hourly limit of 1000 credits for sarahondraszek has been exceeded. Please throttle your requests or use the commercial service.', 'value': 19}}\n",
      "Error the hourly limit of 1000 credits for sarahondraszek has been exceeded. Please throttle your requests or use the commercial service. from JSON {'status': {'message': 'the hourly limit of 1000 credits for sarahondraszek has been exceeded. Please throttle your requests or use the commercial service.', 'value': 19}}\n",
      "Error the hourly limit of 1000 credits for sarahondraszek has been exceeded. Please throttle your requests or use the commercial service. from JSON {'status': {'message': 'the hourly limit of 1000 credits for sarahondraszek has been exceeded. Please throttle your requests or use the commercial service.', 'value': 19}}\n",
      "Error the hourly limit of 1000 credits for sarahondraszek has been exceeded. Please throttle your requests or use the commercial service. from JSON {'status': {'message': 'the hourly limit of 1000 credits for sarahondraszek has been exceeded. Please throttle your requests or use the commercial service.', 'value': 19}}\n",
      "Error the hourly limit of 1000 credits for sarahondraszek has been exceeded. Please throttle your requests or use the commercial service. from JSON {'status': {'message': 'the hourly limit of 1000 credits for sarahondraszek has been exceeded. Please throttle your requests or use the commercial service.', 'value': 19}}\n",
      "Error the hourly limit of 1000 credits for sarahondraszek has been exceeded. Please throttle your requests or use the commercial service. from JSON {'status': {'message': 'the hourly limit of 1000 credits for sarahondraszek has been exceeded. Please throttle your requests or use the commercial service.', 'value': 19}}\n",
      "Error the hourly limit of 1000 credits for sarahondraszek has been exceeded. Please throttle your requests or use the commercial service. from JSON {'status': {'message': 'the hourly limit of 1000 credits for sarahondraszek has been exceeded. Please throttle your requests or use the commercial service.', 'value': 19}}\n",
      "Error the hourly limit of 1000 credits for sarahondraszek has been exceeded. Please throttle your requests or use the commercial service. from JSON {'status': {'message': 'the hourly limit of 1000 credits for sarahondraszek has been exceeded. Please throttle your requests or use the commercial service.', 'value': 19}}\n",
      "Error the hourly limit of 1000 credits for sarahondraszek has been exceeded. Please throttle your requests or use the commercial service. from JSON {'status': {'message': 'the hourly limit of 1000 credits for sarahondraszek has been exceeded. Please throttle your requests or use the commercial service.', 'value': 19}}\n",
      "Error the hourly limit of 1000 credits for sarahondraszek has been exceeded. Please throttle your requests or use the commercial service. from JSON {'status': {'message': 'the hourly limit of 1000 credits for sarahondraszek has been exceeded. Please throttle your requests or use the commercial service.', 'value': 19}}\n",
      "Error the hourly limit of 1000 credits for sarahondraszek has been exceeded. Please throttle your requests or use the commercial service. from JSON {'status': {'message': 'the hourly limit of 1000 credits for sarahondraszek has been exceeded. Please throttle your requests or use the commercial service.', 'value': 19}}\n",
      "Error the hourly limit of 1000 credits for sarahondraszek has been exceeded. Please throttle your requests or use the commercial service. from JSON {'status': {'message': 'the hourly limit of 1000 credits for sarahondraszek has been exceeded. Please throttle your requests or use the commercial service.', 'value': 19}}\n",
      "Error the hourly limit of 1000 credits for sarahondraszek has been exceeded. Please throttle your requests or use the commercial service. from JSON {'status': {'message': 'the hourly limit of 1000 credits for sarahondraszek has been exceeded. Please throttle your requests or use the commercial service.', 'value': 19}}\n",
      "Error the hourly limit of 1000 credits for sarahondraszek has been exceeded. Please throttle your requests or use the commercial service. from JSON {'status': {'message': 'the hourly limit of 1000 credits for sarahondraszek has been exceeded. Please throttle your requests or use the commercial service.', 'value': 19}}\n",
      "Error the hourly limit of 1000 credits for sarahondraszek has been exceeded. Please throttle your requests or use the commercial service. from JSON {'status': {'message': 'the hourly limit of 1000 credits for sarahondraszek has been exceeded. Please throttle your requests or use the commercial service.', 'value': 19}}\n",
      "Error the hourly limit of 1000 credits for sarahondraszek has been exceeded. Please throttle your requests or use the commercial service. from JSON {'status': {'message': 'the hourly limit of 1000 credits for sarahondraszek has been exceeded. Please throttle your requests or use the commercial service.', 'value': 19}}\n",
      "Error the hourly limit of 1000 credits for sarahondraszek has been exceeded. Please throttle your requests or use the commercial service. from JSON {'status': {'message': 'the hourly limit of 1000 credits for sarahondraszek has been exceeded. Please throttle your requests or use the commercial service.', 'value': 19}}\n",
      "Error the hourly limit of 1000 credits for sarahondraszek has been exceeded. Please throttle your requests or use the commercial service. from JSON {'status': {'message': 'the hourly limit of 1000 credits for sarahondraszek has been exceeded. Please throttle your requests or use the commercial service.', 'value': 19}}\n",
      "Error the hourly limit of 1000 credits for sarahondraszek has been exceeded. Please throttle your requests or use the commercial service. from JSON {'status': {'message': 'the hourly limit of 1000 credits for sarahondraszek has been exceeded. Please throttle your requests or use the commercial service.', 'value': 19}}\n",
      "Error the hourly limit of 1000 credits for sarahondraszek has been exceeded. Please throttle your requests or use the commercial service. from JSON {'status': {'message': 'the hourly limit of 1000 credits for sarahondraszek has been exceeded. Please throttle your requests or use the commercial service.', 'value': 19}}\n",
      "Error the hourly limit of 1000 credits for sarahondraszek has been exceeded. Please throttle your requests or use the commercial service. from JSON {'status': {'message': 'the hourly limit of 1000 credits for sarahondraszek has been exceeded. Please throttle your requests or use the commercial service.', 'value': 19}}\n",
      "Error the hourly limit of 1000 credits for sarahondraszek has been exceeded. Please throttle your requests or use the commercial service. from JSON {'status': {'message': 'the hourly limit of 1000 credits for sarahondraszek has been exceeded. Please throttle your requests or use the commercial service.', 'value': 19}}\n",
      "Error the hourly limit of 1000 credits for sarahondraszek has been exceeded. Please throttle your requests or use the commercial service. from JSON {'status': {'message': 'the hourly limit of 1000 credits for sarahondraszek has been exceeded. Please throttle your requests or use the commercial service.', 'value': 19}}\n",
      "Error the hourly limit of 1000 credits for sarahondraszek has been exceeded. Please throttle your requests or use the commercial service. from JSON {'status': {'message': 'the hourly limit of 1000 credits for sarahondraszek has been exceeded. Please throttle your requests or use the commercial service.', 'value': 19}}\n",
      "Error the hourly limit of 1000 credits for sarahondraszek has been exceeded. Please throttle your requests or use the commercial service. from JSON {'status': {'message': 'the hourly limit of 1000 credits for sarahondraszek has been exceeded. Please throttle your requests or use the commercial service.', 'value': 19}}\n",
      "Error the hourly limit of 1000 credits for sarahondraszek has been exceeded. Please throttle your requests or use the commercial service. from JSON {'status': {'message': 'the hourly limit of 1000 credits for sarahondraszek has been exceeded. Please throttle your requests or use the commercial service.', 'value': 19}}\n",
      "Error the hourly limit of 1000 credits for sarahondraszek has been exceeded. Please throttle your requests or use the commercial service. from JSON {'status': {'message': 'the hourly limit of 1000 credits for sarahondraszek has been exceeded. Please throttle your requests or use the commercial service.', 'value': 19}}\n",
      "Error the hourly limit of 1000 credits for sarahondraszek has been exceeded. Please throttle your requests or use the commercial service. from JSON {'status': {'message': 'the hourly limit of 1000 credits for sarahondraszek has been exceeded. Please throttle your requests or use the commercial service.', 'value': 19}}\n"
     ]
    },
    {
     "ename": "KeyboardInterrupt",
     "evalue": "",
     "output_type": "error",
     "traceback": [
      "\u001B[0;31m---------------------------------------------------------------------------\u001B[0m",
      "\u001B[0;31mKeyboardInterrupt\u001B[0m                         Traceback (most recent call last)",
      "\u001B[0;32m<ipython-input-18-32a10606458b>\u001B[0m in \u001B[0;36m<module>\u001B[0;34m\u001B[0m\n\u001B[1;32m     12\u001B[0m                 \u001B[0;31m# Placeholder\u001B[0m\u001B[0;34m\u001B[0m\u001B[0;34m\u001B[0m\u001B[0;34m\u001B[0m\u001B[0m\n\u001B[1;32m     13\u001B[0m                 \u001B[0mfeature\u001B[0m\u001B[0;34m[\u001B[0m\u001B[0;34m\"properties\"\u001B[0m\u001B[0;34m]\u001B[0m\u001B[0;34m[\u001B[0m\u001B[0;34m\"url\"\u001B[0m\u001B[0;34m]\u001B[0m \u001B[0;34m=\u001B[0m \u001B[0;34m\"https://www.geonames.org/None\"\u001B[0m\u001B[0;34m\u001B[0m\u001B[0;34m\u001B[0m\u001B[0m\n\u001B[0;32m---> 14\u001B[0;31m             \u001B[0mjson_dump\u001B[0m \u001B[0;34m=\u001B[0m \u001B[0mjson\u001B[0m\u001B[0;34m.\u001B[0m\u001B[0mdumps\u001B[0m\u001B[0;34m(\u001B[0m\u001B[0mjson_file\u001B[0m\u001B[0;34m,\u001B[0m \u001B[0mindent\u001B[0m\u001B[0;34m=\u001B[0m\u001B[0;36m4\u001B[0m\u001B[0;34m)\u001B[0m\u001B[0;34m\u001B[0m\u001B[0;34m\u001B[0m\u001B[0m\n\u001B[0m\u001B[1;32m     15\u001B[0m             \u001B[0;32mwith\u001B[0m \u001B[0mopen\u001B[0m\u001B[0;34m(\u001B[0m\u001B[0;34m'../data/output/text_ner/with_url/'\u001B[0m \u001B[0;34m+\u001B[0m \u001B[0mos\u001B[0m\u001B[0;34m.\u001B[0m\u001B[0mpath\u001B[0m\u001B[0;34m.\u001B[0m\u001B[0mbasename\u001B[0m\u001B[0;34m(\u001B[0m\u001B[0mfile\u001B[0m\u001B[0;34m)\u001B[0m \u001B[0;34m+\u001B[0m \u001B[0;34m'_test'\u001B[0m\u001B[0;34m,\u001B[0m \u001B[0;34m'w'\u001B[0m\u001B[0;34m)\u001B[0m \u001B[0;32mas\u001B[0m \u001B[0mf_w\u001B[0m\u001B[0;34m:\u001B[0m\u001B[0;34m\u001B[0m\u001B[0;34m\u001B[0m\u001B[0m\n\u001B[1;32m     16\u001B[0m                 \u001B[0mf_w\u001B[0m\u001B[0;34m.\u001B[0m\u001B[0mwrite\u001B[0m\u001B[0;34m(\u001B[0m\u001B[0mjson_dump\u001B[0m\u001B[0;34m)\u001B[0m\u001B[0;34m\u001B[0m\u001B[0;34m\u001B[0m\u001B[0m\n",
      "\u001B[0;32m~/.conda/envs/projektseminar_22-23_dh_trier/lib/python3.6/json/__init__.py\u001B[0m in \u001B[0;36mdumps\u001B[0;34m(obj, skipkeys, ensure_ascii, check_circular, allow_nan, cls, indent, separators, default, sort_keys, **kw)\u001B[0m\n\u001B[1;32m    236\u001B[0m         \u001B[0mcheck_circular\u001B[0m\u001B[0;34m=\u001B[0m\u001B[0mcheck_circular\u001B[0m\u001B[0;34m,\u001B[0m \u001B[0mallow_nan\u001B[0m\u001B[0;34m=\u001B[0m\u001B[0mallow_nan\u001B[0m\u001B[0;34m,\u001B[0m \u001B[0mindent\u001B[0m\u001B[0;34m=\u001B[0m\u001B[0mindent\u001B[0m\u001B[0;34m,\u001B[0m\u001B[0;34m\u001B[0m\u001B[0;34m\u001B[0m\u001B[0m\n\u001B[1;32m    237\u001B[0m         \u001B[0mseparators\u001B[0m\u001B[0;34m=\u001B[0m\u001B[0mseparators\u001B[0m\u001B[0;34m,\u001B[0m \u001B[0mdefault\u001B[0m\u001B[0;34m=\u001B[0m\u001B[0mdefault\u001B[0m\u001B[0;34m,\u001B[0m \u001B[0msort_keys\u001B[0m\u001B[0;34m=\u001B[0m\u001B[0msort_keys\u001B[0m\u001B[0;34m,\u001B[0m\u001B[0;34m\u001B[0m\u001B[0;34m\u001B[0m\u001B[0m\n\u001B[0;32m--> 238\u001B[0;31m         **kw).encode(obj)\n\u001B[0m\u001B[1;32m    239\u001B[0m \u001B[0;34m\u001B[0m\u001B[0m\n\u001B[1;32m    240\u001B[0m \u001B[0;34m\u001B[0m\u001B[0m\n",
      "\u001B[0;32m~/.conda/envs/projektseminar_22-23_dh_trier/lib/python3.6/json/encoder.py\u001B[0m in \u001B[0;36mencode\u001B[0;34m(self, o)\u001B[0m\n\u001B[1;32m    199\u001B[0m         \u001B[0mchunks\u001B[0m \u001B[0;34m=\u001B[0m \u001B[0mself\u001B[0m\u001B[0;34m.\u001B[0m\u001B[0miterencode\u001B[0m\u001B[0;34m(\u001B[0m\u001B[0mo\u001B[0m\u001B[0;34m,\u001B[0m \u001B[0m_one_shot\u001B[0m\u001B[0;34m=\u001B[0m\u001B[0;32mTrue\u001B[0m\u001B[0;34m)\u001B[0m\u001B[0;34m\u001B[0m\u001B[0;34m\u001B[0m\u001B[0m\n\u001B[1;32m    200\u001B[0m         \u001B[0;32mif\u001B[0m \u001B[0;32mnot\u001B[0m \u001B[0misinstance\u001B[0m\u001B[0;34m(\u001B[0m\u001B[0mchunks\u001B[0m\u001B[0;34m,\u001B[0m \u001B[0;34m(\u001B[0m\u001B[0mlist\u001B[0m\u001B[0;34m,\u001B[0m \u001B[0mtuple\u001B[0m\u001B[0;34m)\u001B[0m\u001B[0;34m)\u001B[0m\u001B[0;34m:\u001B[0m\u001B[0;34m\u001B[0m\u001B[0;34m\u001B[0m\u001B[0m\n\u001B[0;32m--> 201\u001B[0;31m             \u001B[0mchunks\u001B[0m \u001B[0;34m=\u001B[0m \u001B[0mlist\u001B[0m\u001B[0;34m(\u001B[0m\u001B[0mchunks\u001B[0m\u001B[0;34m)\u001B[0m\u001B[0;34m\u001B[0m\u001B[0;34m\u001B[0m\u001B[0m\n\u001B[0m\u001B[1;32m    202\u001B[0m         \u001B[0;32mreturn\u001B[0m \u001B[0;34m''\u001B[0m\u001B[0;34m.\u001B[0m\u001B[0mjoin\u001B[0m\u001B[0;34m(\u001B[0m\u001B[0mchunks\u001B[0m\u001B[0;34m)\u001B[0m\u001B[0;34m\u001B[0m\u001B[0;34m\u001B[0m\u001B[0m\n\u001B[1;32m    203\u001B[0m \u001B[0;34m\u001B[0m\u001B[0m\n",
      "\u001B[0;32m~/.conda/envs/projektseminar_22-23_dh_trier/lib/python3.6/json/encoder.py\u001B[0m in \u001B[0;36m_iterencode\u001B[0;34m(o, _current_indent_level)\u001B[0m\n\u001B[1;32m    428\u001B[0m             \u001B[0;32myield\u001B[0m \u001B[0;32mfrom\u001B[0m \u001B[0m_iterencode_list\u001B[0m\u001B[0;34m(\u001B[0m\u001B[0mo\u001B[0m\u001B[0;34m,\u001B[0m \u001B[0m_current_indent_level\u001B[0m\u001B[0;34m)\u001B[0m\u001B[0;34m\u001B[0m\u001B[0;34m\u001B[0m\u001B[0m\n\u001B[1;32m    429\u001B[0m         \u001B[0;32melif\u001B[0m \u001B[0misinstance\u001B[0m\u001B[0;34m(\u001B[0m\u001B[0mo\u001B[0m\u001B[0;34m,\u001B[0m \u001B[0mdict\u001B[0m\u001B[0;34m)\u001B[0m\u001B[0;34m:\u001B[0m\u001B[0;34m\u001B[0m\u001B[0;34m\u001B[0m\u001B[0m\n\u001B[0;32m--> 430\u001B[0;31m             \u001B[0;32myield\u001B[0m \u001B[0;32mfrom\u001B[0m \u001B[0m_iterencode_dict\u001B[0m\u001B[0;34m(\u001B[0m\u001B[0mo\u001B[0m\u001B[0;34m,\u001B[0m \u001B[0m_current_indent_level\u001B[0m\u001B[0;34m)\u001B[0m\u001B[0;34m\u001B[0m\u001B[0;34m\u001B[0m\u001B[0m\n\u001B[0m\u001B[1;32m    431\u001B[0m         \u001B[0;32melse\u001B[0m\u001B[0;34m:\u001B[0m\u001B[0;34m\u001B[0m\u001B[0;34m\u001B[0m\u001B[0m\n\u001B[1;32m    432\u001B[0m             \u001B[0;32mif\u001B[0m \u001B[0mmarkers\u001B[0m \u001B[0;32mis\u001B[0m \u001B[0;32mnot\u001B[0m \u001B[0;32mNone\u001B[0m\u001B[0;34m:\u001B[0m\u001B[0;34m\u001B[0m\u001B[0;34m\u001B[0m\u001B[0m\n",
      "\u001B[0;32m~/.conda/envs/projektseminar_22-23_dh_trier/lib/python3.6/json/encoder.py\u001B[0m in \u001B[0;36m_iterencode_dict\u001B[0;34m(dct, _current_indent_level)\u001B[0m\n\u001B[1;32m    402\u001B[0m                 \u001B[0;32melse\u001B[0m\u001B[0;34m:\u001B[0m\u001B[0;34m\u001B[0m\u001B[0;34m\u001B[0m\u001B[0m\n\u001B[1;32m    403\u001B[0m                     \u001B[0mchunks\u001B[0m \u001B[0;34m=\u001B[0m \u001B[0m_iterencode\u001B[0m\u001B[0;34m(\u001B[0m\u001B[0mvalue\u001B[0m\u001B[0;34m,\u001B[0m \u001B[0m_current_indent_level\u001B[0m\u001B[0;34m)\u001B[0m\u001B[0;34m\u001B[0m\u001B[0;34m\u001B[0m\u001B[0m\n\u001B[0;32m--> 404\u001B[0;31m                 \u001B[0;32myield\u001B[0m \u001B[0;32mfrom\u001B[0m \u001B[0mchunks\u001B[0m\u001B[0;34m\u001B[0m\u001B[0;34m\u001B[0m\u001B[0m\n\u001B[0m\u001B[1;32m    405\u001B[0m         \u001B[0;32mif\u001B[0m \u001B[0mnewline_indent\u001B[0m \u001B[0;32mis\u001B[0m \u001B[0;32mnot\u001B[0m \u001B[0;32mNone\u001B[0m\u001B[0;34m:\u001B[0m\u001B[0;34m\u001B[0m\u001B[0;34m\u001B[0m\u001B[0m\n\u001B[1;32m    406\u001B[0m             \u001B[0m_current_indent_level\u001B[0m \u001B[0;34m-=\u001B[0m \u001B[0;36m1\u001B[0m\u001B[0;34m\u001B[0m\u001B[0;34m\u001B[0m\u001B[0m\n",
      "\u001B[0;32m~/.conda/envs/projektseminar_22-23_dh_trier/lib/python3.6/json/encoder.py\u001B[0m in \u001B[0;36m_iterencode_list\u001B[0;34m(lst, _current_indent_level)\u001B[0m\n\u001B[1;32m    323\u001B[0m                 \u001B[0;32melse\u001B[0m\u001B[0;34m:\u001B[0m\u001B[0;34m\u001B[0m\u001B[0;34m\u001B[0m\u001B[0m\n\u001B[1;32m    324\u001B[0m                     \u001B[0mchunks\u001B[0m \u001B[0;34m=\u001B[0m \u001B[0m_iterencode\u001B[0m\u001B[0;34m(\u001B[0m\u001B[0mvalue\u001B[0m\u001B[0;34m,\u001B[0m \u001B[0m_current_indent_level\u001B[0m\u001B[0;34m)\u001B[0m\u001B[0;34m\u001B[0m\u001B[0;34m\u001B[0m\u001B[0m\n\u001B[0;32m--> 325\u001B[0;31m                 \u001B[0;32myield\u001B[0m \u001B[0;32mfrom\u001B[0m \u001B[0mchunks\u001B[0m\u001B[0;34m\u001B[0m\u001B[0;34m\u001B[0m\u001B[0m\n\u001B[0m\u001B[1;32m    326\u001B[0m         \u001B[0;32mif\u001B[0m \u001B[0mnewline_indent\u001B[0m \u001B[0;32mis\u001B[0m \u001B[0;32mnot\u001B[0m \u001B[0;32mNone\u001B[0m\u001B[0;34m:\u001B[0m\u001B[0;34m\u001B[0m\u001B[0;34m\u001B[0m\u001B[0m\n\u001B[1;32m    327\u001B[0m             \u001B[0m_current_indent_level\u001B[0m \u001B[0;34m-=\u001B[0m \u001B[0;36m1\u001B[0m\u001B[0;34m\u001B[0m\u001B[0;34m\u001B[0m\u001B[0m\n",
      "\u001B[0;32m~/.conda/envs/projektseminar_22-23_dh_trier/lib/python3.6/json/encoder.py\u001B[0m in \u001B[0;36m_iterencode_dict\u001B[0;34m(dct, _current_indent_level)\u001B[0m\n\u001B[1;32m    402\u001B[0m                 \u001B[0;32melse\u001B[0m\u001B[0;34m:\u001B[0m\u001B[0;34m\u001B[0m\u001B[0;34m\u001B[0m\u001B[0m\n\u001B[1;32m    403\u001B[0m                     \u001B[0mchunks\u001B[0m \u001B[0;34m=\u001B[0m \u001B[0m_iterencode\u001B[0m\u001B[0;34m(\u001B[0m\u001B[0mvalue\u001B[0m\u001B[0;34m,\u001B[0m \u001B[0m_current_indent_level\u001B[0m\u001B[0;34m)\u001B[0m\u001B[0;34m\u001B[0m\u001B[0;34m\u001B[0m\u001B[0m\n\u001B[0;32m--> 404\u001B[0;31m                 \u001B[0;32myield\u001B[0m \u001B[0;32mfrom\u001B[0m \u001B[0mchunks\u001B[0m\u001B[0;34m\u001B[0m\u001B[0;34m\u001B[0m\u001B[0m\n\u001B[0m\u001B[1;32m    405\u001B[0m         \u001B[0;32mif\u001B[0m \u001B[0mnewline_indent\u001B[0m \u001B[0;32mis\u001B[0m \u001B[0;32mnot\u001B[0m \u001B[0;32mNone\u001B[0m\u001B[0;34m:\u001B[0m\u001B[0;34m\u001B[0m\u001B[0;34m\u001B[0m\u001B[0m\n\u001B[1;32m    406\u001B[0m             \u001B[0m_current_indent_level\u001B[0m \u001B[0;34m-=\u001B[0m \u001B[0;36m1\u001B[0m\u001B[0;34m\u001B[0m\u001B[0;34m\u001B[0m\u001B[0m\n",
      "\u001B[0;32m~/.conda/envs/projektseminar_22-23_dh_trier/lib/python3.6/json/encoder.py\u001B[0m in \u001B[0;36m_iterencode_dict\u001B[0;34m(dct, _current_indent_level)\u001B[0m\n\u001B[1;32m    380\u001B[0m                 \u001B[0;32myield\u001B[0m \u001B[0mitem_separator\u001B[0m\u001B[0;34m\u001B[0m\u001B[0;34m\u001B[0m\u001B[0m\n\u001B[1;32m    381\u001B[0m             \u001B[0;32myield\u001B[0m \u001B[0m_encoder\u001B[0m\u001B[0;34m(\u001B[0m\u001B[0mkey\u001B[0m\u001B[0;34m)\u001B[0m\u001B[0;34m\u001B[0m\u001B[0;34m\u001B[0m\u001B[0m\n\u001B[0;32m--> 382\u001B[0;31m             \u001B[0;32myield\u001B[0m \u001B[0m_key_separator\u001B[0m\u001B[0;34m\u001B[0m\u001B[0;34m\u001B[0m\u001B[0m\n\u001B[0m\u001B[1;32m    383\u001B[0m             \u001B[0;32mif\u001B[0m \u001B[0misinstance\u001B[0m\u001B[0;34m(\u001B[0m\u001B[0mvalue\u001B[0m\u001B[0;34m,\u001B[0m \u001B[0mstr\u001B[0m\u001B[0;34m)\u001B[0m\u001B[0;34m:\u001B[0m\u001B[0;34m\u001B[0m\u001B[0;34m\u001B[0m\u001B[0m\n\u001B[1;32m    384\u001B[0m                 \u001B[0;32myield\u001B[0m \u001B[0m_encoder\u001B[0m\u001B[0;34m(\u001B[0m\u001B[0mvalue\u001B[0m\u001B[0;34m)\u001B[0m\u001B[0;34m\u001B[0m\u001B[0;34m\u001B[0m\u001B[0m\n",
      "\u001B[0;31mKeyboardInterrupt\u001B[0m: "
     ]
    }
   ],
   "source": [
    "# Enter the filename if you want to process only a single file.\n",
    "for file in glob.glob('../data/output/text_ner/*.json'):\n",
    "    with open (file, 'r') as f:\n",
    "        json_file = json.load(f)\n",
    "        for feature in json_file[\"features\"]:\n",
    "            feature_label = feature[\"properties\"][\"source_label\"]\n",
    "            # With GeoNames URL\n",
    "            g = geocoder.geonames(feature_label, key='kartriert')\n",
    "            feature[\"properties\"][\"url\"] = \"https://www.geonames.org/\" + str(g.geonames_id)\n",
    "            # Placeholder\n",
    "            # feature[\"properties\"][\"url\"] = \"https://www.geonames.org/None\"\n",
    "            json_dump = json.dumps(json_file, indent=4)\n",
    "            with open('../data/output/text_ner/with_url/' + os.path.basename(file) + '_test', 'w') as f_w:\n",
    "                f_w.write(json_dump)\n",
    "\n",
    "        # json_dump = json.dumps(json_file, indent=4)\n",
    "        # with open('../data/output/text_ner/with_url/' + os.path.basename(file), 'w') as f_w:\n",
    "        #     f_w.write(json_dump)\n"
   ],
   "metadata": {
    "collapsed": false
   }
  },
  {
   "cell_type": "code",
   "execution_count": null,
   "outputs": [],
   "source": [],
   "metadata": {
    "collapsed": false
   }
  }
 ],
 "metadata": {
  "kernelspec": {
   "display_name": "Python 3",
   "language": "python",
   "name": "python3"
  },
  "language_info": {
   "codemirror_mode": {
    "name": "ipython",
    "version": 2
   },
   "file_extension": ".py",
   "mimetype": "text/x-python",
   "name": "python",
   "nbconvert_exporter": "python",
   "pygments_lexer": "ipython2",
   "version": "2.7.6"
  }
 },
 "nbformat": 4,
 "nbformat_minor": 0
}
