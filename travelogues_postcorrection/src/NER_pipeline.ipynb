{
 "cells": [
  {
   "cell_type": "markdown",
   "source": [
    "# This is a Jupyter notebook for testing how well the [NER model](https://huggingface.co/dbmdz/flair-historic-ner-onb) for historic German performs on our Travelogues corpus.\n",
    "## Please note the comments that are given in each cell.\n",
    "\n",
    "\n",
    "At first, please try downloading the flair and other packages that are needed for using this model."
   ],
   "metadata": {
    "collapsed": false
   }
  },
  {
   "cell_type": "code",
   "execution_count": 1,
   "outputs": [],
   "source": [
    "import glob\n",
    "import os.path\n",
    "import re\n",
    "import json\n",
    "import ntpath\n",
    "\n",
    "import nltk\n",
    "import geocoder\n",
    "\n",
    "from typing import List, Dict\n",
    "\n",
    "from correct_ocr import single_characters, delete_specials, correct_s\n",
    "\n",
    "from flair.data import Sentence\n",
    "from flair.models import SequenceTagger"
   ],
   "metadata": {
    "collapsed": false
   }
  },
  {
   "cell_type": "code",
   "execution_count": 2,
   "outputs": [],
   "source": [
    "METADATA_PATH: str = '../data/metadata/'\n",
    "VALUES: List[str] = ['Title', 'Contributor']"
   ],
   "metadata": {
    "collapsed": false
   }
  },
  {
   "cell_type": "markdown",
   "source": [
    "This part will predict NE on sentences from the Travelogues texts."
   ],
   "metadata": {
    "collapsed": false
   }
  },
  {
   "cell_type": "code",
   "execution_count": null,
   "outputs": [],
   "source": [
    "# Load NER model into flair tagger.\n",
    "tagger: SequenceTagger = SequenceTagger.load(\"dbmdz/flair-historic-ner-onb\")"
   ],
   "metadata": {
    "collapsed": false,
    "pycharm": {
     "is_executing": true
    }
   }
  },
  {
   "cell_type": "code",
   "execution_count": null,
   "outputs": [],
   "source": [
    "# Read in files – can be noisy OCR\n",
    "nr_of_files: int = 5\n",
    "i = 0\n",
    "\n",
    "for files in glob.glob('../data/18th_century_first_quarter_corr/*.txt')[:]:\n",
    "    if os.path.exists('../data/output/text_ner/' + os.path.basename(re.sub('.txt', '.json', f'{files}'))) and i < nr_of_files:\n",
    "        continue\n",
    "    elif i == nr_of_files:\n",
    "        print(f\"Reached limit of {nr_of_files} files.\")\n",
    "        break\n",
    "    else:\n",
    "        print(f\"Working on: {files}. It is the {i + 1}th file.\")\n",
    "        file: str = open(files, 'r').read()[:]\n",
    "\n",
    "        # Corrections as implemented by @Lisa Braune\n",
    "\n",
    "        sents = nltk.sent_tokenize(file, language='german')\n",
    "\n",
    "        # Sentence tokeniser with nltk\n",
    "        info: dict = {\"type\": \"FeatureCollection\", \"features\": []}\n",
    "        print(f\"Now predicting Named Entities in {files}.\")\n",
    "        idx = 0\n",
    "        for sent in sents:\n",
    "            sent = Sentence(sent)\n",
    "            tagger.predict(sent)\n",
    "            print(sent.to_tagged_string())\n",
    "            for entity in sent.get_spans('ner'):\n",
    "                if entity.get_label(\"ner\").value == 'LOC':\n",
    "                    feature_dict = {\n",
    "                        \"type\": \"Feature\", \"properties\": {},\n",
    "                        \"geometry\": {\n",
    "                            \"type\": \"Point\", \"coordinates\": []\n",
    "                        }\n",
    "                    }\n",
    "                    feature_dict[\"properties\"][\"source_label\"] = entity.text\n",
    "                    g = geocoder.geonames(entity.text, key='sarahondraszek', featureClass='A')\n",
    "                    g_id = g.geonames_id\n",
    "                    g = geocoder.geonames(g_id, key='sarahondraszek', method='details')\n",
    "                    feature_dict[\"geometry\"][\"coordinates\"] = [int(g.lng), int(g.lat)]\n",
    "                    feature_dict[\"properties\"][\"sentence_idx\"] = idx\n",
    "                    feature_dict[\"properties\"][\"start_position\"] = entity.start_position\n",
    "                    feature_dict[\"properties\"][\"end_position\"] = entity.end_position\n",
    "                    info[\"features\"].append(feature_dict)\n",
    "                    #info[barcode][\"score\"] = entity.get_label(\"ner\").score\n",
    "            idx += 1\n",
    "\n",
    "        json_dump = json.dumps(info, indent=4)\n",
    "        with open('../data/output/text_ner/' + os.path.basename(re.sub('.txt', '.json', f'{files}')), 'w') as f:\n",
    "            f.write(json_dump)\n",
    "        i += 1\n"
   ],
   "metadata": {
    "collapsed": false,
    "pycharm": {
     "is_executing": true
    }
   }
  },
  {
   "cell_type": "markdown",
   "source": [
    "#### NER on Travelogues titles"
   ],
   "metadata": {
    "collapsed": false
   }
  },
  {
   "cell_type": "code",
   "execution_count": 22,
   "outputs": [],
   "source": [
    "def read_jsons(metadata_path: str, single_file: bool = False, doc_barcode: str = 'Z124117102', values=None) -> Dict:\n",
    "    \"\"\"Function that aims to retrieve certain metadata information from the JSON files. Can handle single and multiple file attempts.\n",
    "\n",
    "    :param metadata_path: Path for metadata files.\n",
    "    :param single_file: Boolean, False if all files in metadata directory should be observed, True if only a single file should be parsed.\n",
    "    :param doc_barcode: If a single file is parsed, the barcode must be provided.\n",
    "    :param values: List of tags for the information value someone wants to extract, e.g. the title or author of a file.\n",
    "    :return: String of the metadata information.\n",
    "    \"\"\"\n",
    "\n",
    "    output_dict = {}\n",
    "\n",
    "    if values is None:\n",
    "        values = ['Title', 'Contributor']\n",
    "\n",
    "    if single_file:\n",
    "        indicator = doc_barcode\n",
    "    else:\n",
    "        indicator = '*'\n",
    "\n",
    "    for metadata_file in glob.glob(metadata_path + indicator + '.json')[:]:\n",
    "        output_dict[re.sub(r'\\.json', '', ntpath.basename(metadata_file))] = {}\n",
    "        with open(metadata_file, 'r') as f:\n",
    "            object_dict = json.load(f)\n",
    "\n",
    "            for metadata_dict in object_dict:\n",
    "                try:\n",
    "                    if metadata_dict['label'][0]['@value'] in values:\n",
    "                        output_dict[re.sub(r'\\.json', '', ntpath.basename(metadata_file))][\n",
    "                            metadata_dict['label'][0]['@value']] = metadata_dict['value']\n",
    "                        # print(f\"{metadata_dict['label'][0]['@value']}: {metadata_dict['value']}\")\n",
    "                except TypeError:\n",
    "                    if metadata_dict['label'] in values:\n",
    "                        output_dict[re.sub(r'\\.json', '', ntpath.basename(metadata_file))] = {\n",
    "                            metadata_dict['label'][0]['@value']: metadata_dict['value']}\n",
    "                        # print(f\"{metadata_dict['label']}: {metadata_dict['value']}\")\n",
    "\n",
    "    return output_dict\n"
   ],
   "metadata": {
    "collapsed": false
   }
  },
  {
   "cell_type": "code",
   "execution_count": 23,
   "outputs": [],
   "source": [
    "travelogues_titles: dict = read_jsons(metadata_path=METADATA_PATH)"
   ],
   "metadata": {
    "collapsed": false
   }
  },
  {
   "cell_type": "code",
   "execution_count": 24,
   "outputs": [],
   "source": [
    "def ner_tagged_jsons(titles: dict, tag: str, ner_model: tagger) -> None:\n",
    "    \"\"\"\n",
    "\n",
    "    :param titles:\n",
    "    :param tag:\n",
    "    :param ner_model:\n",
    "    :return:\n",
    "    \"\"\"\n",
    "\n",
    "    for barcode, items in titles.items():\n",
    "        print(f\"Predicting Named Entities in {barcode}.\")\n",
    "        info: dict = {\"type\": \"FeatureCollection\", \"features\": []}\n",
    "        title_sentence = (items[tag])\n",
    "        ner_model.predict(title_sentence)\n",
    "        for entity in title_sentence.get_spans('ner'):\n",
    "            if entity.get_label(\"ner\").value == 'LOC':\n",
    "                feature_dict = {\n",
    "                    \"type\": \"Feature\", \"properties\": {},\n",
    "                    \"geometry\": {\n",
    "                        \"type\": \"Point\", \"coordinates\": []\n",
    "                    }\n",
    "                }\n",
    "                feature_dict[\"properties\"][\"source_label\"] = entity.text\n",
    "                g = geocoder.geonames(entity.text, key='sarahondraszek', featurClass='A')\n",
    "                g_id = g.geonames_id\n",
    "                g = geocoder.geonames(g_id, key='sarahondraszek', method='details')\n",
    "                feature_dict[\"geometry\"][\"coordinates\"] = [g.lng, g.lat]\n",
    "                feature_dict[\"properties\"][\"start_position\"] = entity.start_position\n",
    "                feature_dict[\"properties\"][\"end_position\"] = entity.end_position\n",
    "                info[\"features\"].append(feature_dict)\n",
    "                #info[barcode][\"score\"] = entity.get_label(\"ner\").score\n",
    "\n",
    "        json_dump = json.dumps(info, indent=4)\n",
    "        with open('../data/titles_ner_tagged_jsons/' + barcode + '.json', 'w') as f:\n",
    "            f.write(json_dump)"
   ],
   "metadata": {
    "collapsed": false
   }
  },
  {
   "cell_type": "code",
   "execution_count": null,
   "outputs": [],
   "source": [
    "ner_tagged_jsons(titles=travelogues_titles, tag='Title', ner_model=tagger)"
   ],
   "metadata": {
    "collapsed": false,
    "pycharm": {
     "is_executing": true
    }
   }
  }
 ],
 "metadata": {
  "kernelspec": {
   "display_name": "Python 3",
   "language": "python",
   "name": "python3"
  },
  "language_info": {
   "codemirror_mode": {
    "name": "ipython",
    "version": 2
   },
   "file_extension": ".py",
   "mimetype": "text/x-python",
   "name": "python",
   "nbconvert_exporter": "python",
   "pygments_lexer": "ipython2",
   "version": "2.7.6"
  }
 },
 "nbformat": 4,
 "nbformat_minor": 0
}
