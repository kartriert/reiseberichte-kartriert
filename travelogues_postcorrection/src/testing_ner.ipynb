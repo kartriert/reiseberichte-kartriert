{
 "cells": [
  {
   "cell_type": "markdown",
   "source": [
    "# This is a Jupyter notebook for testing how well the [NER model](https://huggingface.co/dbmdz/flair-historic-ner-onb) for historic German performs on our Travelogues corpus.\n",
    "## Please note the comments that are given in each cell.\n",
    "\n",
    "\n",
    "At first, please try downloading the flair and other packages that are needed for using this model."
   ],
   "metadata": {
    "collapsed": false
   }
  },
  {
   "cell_type": "code",
   "execution_count": 59,
   "outputs": [],
   "source": [
    "import glob\n",
    "import os\n",
    "import pprint\n",
    "import re\n",
    "import json\n",
    "import ntpath\n",
    "\n",
    "from flair.data import Sentence\n",
    "from flair.models import SequenceTagger\n",
    "import spacy\n",
    "from spacy.tokens import Doc\n",
    "\n",
    "from typing import List, Dict\n",
    "\n",
    "from correct_ocr import single_characters, delete_specials, correct_s"
   ],
   "metadata": {
    "collapsed": false
   }
  },
  {
   "cell_type": "code",
   "execution_count": 60,
   "outputs": [],
   "source": [
    "METADATA_PATH: str = '../data/metadata/'\n",
    "VALUES: List[str] = ['Title', 'Contributor']"
   ],
   "metadata": {
    "collapsed": false
   }
  },
  {
   "cell_type": "markdown",
   "source": [
    "The following cell is only needed if problems with spacy.load occur."
   ],
   "metadata": {
    "collapsed": false
   }
  },
  {
   "cell_type": "code",
   "execution_count": null,
   "outputs": [],
   "source": [
    "import spacy.cli\n",
    "spacy.cli.download(\"de_core_news_md\")"
   ],
   "metadata": {
    "collapsed": false
   }
  },
  {
   "cell_type": "markdown",
   "source": [
    "This part will try out the NER on sentences from the Travelogues texts."
   ],
   "metadata": {
    "collapsed": false
   }
  },
  {
   "cell_type": "code",
   "execution_count": null,
   "outputs": [],
   "source": [
    "# Load NER model into flair tagger.\n",
    "tagger: SequenceTagger = SequenceTagger.load(\"dbmdz/flair-historic-ner-onb\")"
   ],
   "metadata": {
    "collapsed": false,
    "pycharm": {
     "is_executing": true
    }
   }
  },
  {
   "cell_type": "code",
   "execution_count": null,
   "outputs": [],
   "source": [
    "# Downloading language model for the spacy pipeline\n",
    "nlp = spacy.load(\"de_core_news_md\")\n",
    "\n",
    "# Read in files – can be noisy OCR\n",
    "file: str = open('../data/test/bossmann_gvinea_1708.txt', 'r').read()[100:2000]\n",
    "\n",
    "# Corrections as implemented by @Lisa Braune\n",
    "\n",
    "file = re.sub('aͤ', 'ä', file)\n",
    "file = re.sub('uͤ', 'ü', file)\n",
    "file = re.sub('oͤ', 'ö', file)\n",
    "\n",
    "file = correct_s(file)\n",
    "file = single_characters(file)\n",
    "file = delete_specials(file)\n",
    "\n",
    "\n",
    "\n",
    "# Throw document into spacy pipeline, sentencise file\n",
    "doc: Doc = nlp(file)\n",
    "sents: list = [sent.text for sent in doc.sents]\n",
    "\n",
    "for sent in sents:\n",
    "    # Transform each sentence in the list into type Sentence for function availability\n",
    "    sentence = Sentence(sent)\n",
    "    tagger.predict(sentence)\n",
    "    print(sentence.to_tagged_string())\n"
   ],
   "metadata": {
    "collapsed": false,
    "pycharm": {
     "is_executing": true
    }
   }
  },
  {
   "cell_type": "code",
   "execution_count": null,
   "outputs": [],
   "source": [
    "sentence = Sentence(file)\n",
    "tagger.predict(sentence)\n",
    "print(sentence.to_dict())\n"
   ],
   "metadata": {
    "collapsed": false,
    "pycharm": {
     "is_executing": true
    }
   }
  },
  {
   "cell_type": "markdown",
   "source": [
    "#### NER on Travelogues titles"
   ],
   "metadata": {
    "collapsed": false
   }
  },
  {
   "cell_type": "code",
   "execution_count": 82,
   "outputs": [],
   "source": [
    "def read_jsons(metadata_path: str, single_file: bool = False, doc_barcode: str = 'Z124117102', values=None) -> Dict:\n",
    "    \"\"\"Function that aims to retrieve certain metadata information from the JSON files. Can handle single and multiple file attempts.\n",
    "\n",
    "    :param metadata_path: Path for metadata files.\n",
    "    :param single_file: Boolean, False if all files in metadata directory should be observed, True if only a single file should be parsed.\n",
    "    :param doc_barcode: If a single file is parsed, the barcode must be provided.\n",
    "    :param values: List of tags for the information value someone wants to extract, e.g. the title or author of a file.\n",
    "    :return: String of the metadata information.\n",
    "    \"\"\"\n",
    "\n",
    "    output_dict = {}\n",
    "\n",
    "    if values is None:\n",
    "        values = ['Title', 'Contributor']\n",
    "\n",
    "    if single_file:\n",
    "        indicator = doc_barcode\n",
    "    else:\n",
    "        indicator = '*'\n",
    "\n",
    "    for metadata_file in glob.glob(metadata_path + indicator + '.json')[:20]:\n",
    "        output_dict[re.sub(r'\\.json', '', ntpath.basename(metadata_file))] = {}\n",
    "        with open(metadata_file, 'r') as f:\n",
    "            object_dict = json.load(f)\n",
    "\n",
    "            for metadata_dict in object_dict:\n",
    "                try:\n",
    "                    if metadata_dict['label'][0]['@value'] in values:\n",
    "                        output_dict[re.sub(r'\\.json', '', ntpath.basename(metadata_file))][metadata_dict['label'][0]['@value']] = metadata_dict['value']\n",
    "                        # print(f\"{metadata_dict['label'][0]['@value']}: {metadata_dict['value']}\")\n",
    "                except TypeError:\n",
    "                    if metadata_dict['label'] in values:\n",
    "                        output_dict[re.sub(r'\\.json', '', ntpath.basename(metadata_file))] = {metadata_dict['label'][0]['@value']: metadata_dict['value']}\n",
    "                        # print(f\"{metadata_dict['label']}: {metadata_dict['value']}\")\n",
    "\n",
    "    return output_dict\n"
   ],
   "metadata": {
    "collapsed": false
   }
  },
  {
   "cell_type": "code",
   "execution_count": 83,
   "outputs": [],
   "source": [
    "travelogues_titles: dict = read_jsons(metadata_path=METADATA_PATH)"
   ],
   "metadata": {
    "collapsed": false
   }
  },
  {
   "cell_type": "code",
   "execution_count": 84,
   "outputs": [],
   "source": [
    "def ner_metadata(titles: dict, tag: str, ner_model: tagger) -> None:\n",
    "    \"\"\"\n",
    "\n",
    "    :param titles:\n",
    "    :param tag:\n",
    "    :param ner_model:\n",
    "    :return:\n",
    "    \"\"\"\n",
    "\n",
    "    for barcode, items in titles.items():\n",
    "        sentence = Sentence(items[tag])\n",
    "        tagger.predict(sentence)\n",
    "        print(barcode, sentence.get_labels())"
   ],
   "metadata": {
    "collapsed": false
   }
  },
  {
   "cell_type": "code",
   "execution_count": 85,
   "outputs": [
    {
     "name": "stdout",
     "output_type": "stream",
     "text": [
      "Z203131903 ['Span[0:1]: \"Joseph\"'/'PER' (0.7087), 'Span[7:8]: \"Paris\"'/'LOC' (0.9993)]\n",
      "Z16446480X ['Span[4:5]: \"Nordamerika\"'/'LOC' (0.9999), 'Span[5:6]: \":\"'/'LOC' (0.9738), 'Span[15:16]: \"Kanada\"'/'LOC' (0.9998), 'Span[17:18]: \"Neu-England\"'/'LOC' (1.0), 'Span[19:20]: \"Virginien\"'/'LOC' (0.9999), 'Span[38:39]: \"Bourgoyne\"'/'PER' (0.9997)]\n",
      "Z98088202 []\n",
      "Z69858209 ['Span[3:6]: \"Philipp Fermins >>\"'/'PER' (0.7115), 'Span[9:10]: \"Surinam\"'/'LOC' (0.9901)]\n",
      "Z186417204 ['Span[8:9]: \"Siebenbürgen\"'/'LOC' (1.0), 'Span[11:12]: \"Temeswarer\"'/'LOC' (0.8545), 'Span[12:13]: \"Banat\"'/'LOC' (0.755), 'Span[14:15]: \"Ungarn\"'/'LOC' (0.9999), 'Span[16:17]: \"Oesterreich\"'/'LOC' (0.9999), 'Span[18:19]: \"Bayern\"'/'LOC' (0.9999), 'Span[20:21]: \"Schwaben\"'/'LOC' (0.9999), 'Span[22:23]: \"Schweiz\"'/'LOC' (0.9999), 'Span[24:25]: \"Elsaß\"'/'LOC' (0.9997), 'Span[30:32]: \"Theodor Lange\"'/'PER' (0.898)]\n",
      "Z257372603 ['Span[0:1]: \"Jenne\"'/'PER' (0.786), 'Span[1:2]: \"'s\"'/'PER' (0.9592), 'Span[5:6]: \"Spanien\"'/'LOC' (1.0), 'Span[7:8]: \"Piemont\"'/'LOC' (1.0), 'Span[10:11]: \"Lombardei\"'/'LOC' (1.0), 'Span[12:13]: \"Tyrol\"'/'LOC' (0.9997)]\n",
      "Z204099201 ['Span[4:5]: \"Hrsg\"'/'PER' (0.9566), 'Span[11:12]: \"v.\"'/'PER' (0.7769), 'Span[21:22]: \"Mannheim\"'/'LOC' (0.9996), 'Span[23:24]: \"Baiern\"'/'LOC' (0.9997), 'Span[25:26]: \"Oesterreich\"'/'LOC' (0.9996), 'Span[27:28]: \"Wien\"'/'LOC' (0.9999)]\n",
      "Z16005920X ['Span[12:14]: \"Karls Jetting\"'/'PER' (0.9639), 'Span[17:18]: \"Ungars\"'/'PER' (0.9319), 'Span[18:19]: \":\"'/'PER' (0.9165)]\n",
      "Z203234200 ['Span[3:5]: \"Villa Franca\"'/'LOC' (0.9292), 'Span[6:7]: \"Chur-Brandenburg\"'/'LOC' (0.9643), 'Span[8:9]: \"Teutschland\"'/'LOC' (0.9936), 'Span[10:11]: \"Holland\"'/'LOC' (0.9999), 'Span[12:13]: \"Braband\"'/'LOC' (0.9994), 'Span[14:15]: \"England\"'/'LOC' (0.9999), 'Span[16:17]: \"Franckreich\"'/'LOC' (0.9999), 'Span[17:18]: \";\"'/'LOC' (0.9888), 'Span[21:22]: \"Turin\"'/'LOC' (1.0), 'Span[24:25]: \"Italien\"'/'LOC' (1.0), 'Span[26:27]: \"Rom\"'/'LOC' (0.9998), 'Span[28:29]: \"Neapolis\"'/'LOC' (0.9983)]\n",
      "Z221813609 ['Span[7:8]: \"Deutschland\"'/'LOC' (0.9999), 'Span[9:10]: \"Rußland\"'/'LOC' (1.0), 'Span[11:12]: \"Polen\"'/'LOC' (1.0), 'Span[29:30]: \"Rußland\"'/'LOC' (1.0), 'Span[32:33]: \"Polen\"'/'LOC' (1.0)]\n",
      "Z97797709 ['Span[15:16]: \"Sibirien\"'/'LOC' (0.9989)]\n",
      "Z162202606 ['Span[5:6]: \"Toulouse\"'/'LOC' (0.9999), 'Span[7:8]: \"Montpellier\"'/'LOC' (1.0)]\n",
      "Z169427506 ['Span[10:11]: \"Sizilien\"'/'LOC' (1.0)]\n",
      "Z171655009 ['Span[2:3]: \"Warschau\"'/'LOC' (0.9999), 'Span[4:5]: \"Wien\"'/'LOC' (0.9982), 'Span[9:10]: \"Sicilien\"'/'LOC' (0.9983)]\n",
      "Z171042000 ['Span[0:4]: \"Jean François de Súrville\"'/'PER' (0.9863), 'Span[11:12]: \"Südmeer\"'/'LOC' (0.8467), 'Span[34:37]: \"Herren de Súrville\"'/'PER' (0.8346), 'Span[38:39]: \"Labé\"'/'PER' (0.9978), 'Span[40:43]: \"Pottier de l'Horme\"'/'PER' (0.8855), 'Span[44:45]: \"Monneron\"'/'PER' (0.959)]\n",
      "Z2441990X ['Span[28:29]: \"Achin\"'/'LOC' (0.9938), 'Span[30:31]: \"Sumatra\"'/'LOC' (0.996), 'Span[33:34]: \"Tonquin\"'/'LOC' (0.9997), 'Span[35:36]: \"Malacca\"'/'LOC' (0.9999), 'Span[50:51]: \"West-Indien\"'/'LOC' (0.9998), 'Span[62:63]: \"Winden\"'/'LOC' (0.8506), 'Span[73:74]: \"Ströhmen\"'/'LOC' (0.9849), 'Span[79:81]: \"Wilhelm Dampier\"'/'PER' (0.6858)]\n",
      "Z197445104 ['Span[4:5]: \"Deutschland\"'/'LOC' (0.9996), 'Span[7:8]: \"Schweiz\"'/'LOC' (0.9986)]\n",
      "Z124970601 ['Span[4:5]: \"Deutschlands\"'/'LOC' (0.9999)]\n",
      "Z19744480X ['Span[4:5]: \"Deutschland\"'/'LOC' (0.9997), 'Span[7:8]: \"Schweiz\"'/'LOC' (0.9989)]\n",
      "Z255423504 ['Span[0:5]: \"Johann Philipp von Carosi 's\"'/'PER' (0.7968)]\n"
     ]
    }
   ],
   "source": [
    "ner_metadata(travelogues_titles, tag='Title', ner_model=tagger)"
   ],
   "metadata": {
    "collapsed": false
   }
  },
  {
   "cell_type": "code",
   "execution_count": null,
   "outputs": [],
   "source": [],
   "metadata": {
    "collapsed": false
   }
  }
 ],
 "metadata": {
  "kernelspec": {
   "display_name": "Python 3",
   "language": "python",
   "name": "python3"
  },
  "language_info": {
   "codemirror_mode": {
    "name": "ipython",
    "version": 2
   },
   "file_extension": ".py",
   "mimetype": "text/x-python",
   "name": "python",
   "nbconvert_exporter": "python",
   "pygments_lexer": "ipython2",
   "version": "2.7.6"
  }
 },
 "nbformat": 4,
 "nbformat_minor": 0
}
