{
 "cells": [
  {
   "cell_type": "markdown",
   "source": [
    "# This is a Jupyter notebook for testing how well the [NER model](https://huggingface.co/dbmdz/flair-historic-ner-onb) for historic German performs on our Travelogues corpus.\n",
    "## Please note the comments that are given in each cell.\n",
    "\n",
    "\n",
    "At first, please try downloading the flair and other packages that are needed for using this model."
   ],
   "metadata": {
    "collapsed": false
   }
  },
  {
   "cell_type": "code",
   "execution_count": 4,
   "outputs": [],
   "source": [
    "from flair.data import Sentence\n",
    "from flair.models import SequenceTagger\n",
    "import spacy\n",
    "from spacy.tokens import Doc\n",
    "\n",
    "from correct_ocr import single_characters, delete_specials, correct_s"
   ],
   "metadata": {
    "collapsed": false
   }
  },
  {
   "cell_type": "markdown",
   "source": [
    "The following cell is only needed if problems with spacy.load occur."
   ],
   "metadata": {
    "collapsed": false
   }
  },
  {
   "cell_type": "code",
   "execution_count": null,
   "outputs": [],
   "source": [
    "import spacy.cli\n",
    "spacy.cli.download(\"de_core_news_md\")"
   ],
   "metadata": {
    "collapsed": false
   }
  },
  {
   "cell_type": "markdown",
   "source": [
    "This part will try out the NER on sentences from the Travelogues texts."
   ],
   "metadata": {
    "collapsed": false
   }
  },
  {
   "cell_type": "code",
   "execution_count": null,
   "outputs": [],
   "source": [
    "# Downloading language model for the spacy pipeline\n",
    "nlp = spacy.load(\"de_core_news_md\")\n",
    "\n",
    "# Read in files – can be noisy OCR\n",
    "file: str = open('../data/test/bossmann_gvinea_1708.txt', 'r').read()[100:2000]\n",
    "\n",
    "# Corrections as implemented by @Lisa Braune\n",
    "file = correct_s(file)\n",
    "file = single_characters(file)\n",
    "file = delete_specials(file)\n",
    "\n",
    "\n",
    "# Throw document into spacy pipeline, sentencise file\n",
    "doc: Doc = nlp(file)\n",
    "sents: list = [sent.text for sent in doc.sents]\n",
    "\n",
    "tagger: SequenceTagger = SequenceTagger.load(\"dbmdz/flair-historic-ner-onb\")\n",
    "\n",
    "for sent in sents:\n",
    "    # Transform each sentence in the list into type Sentence for function availability\n",
    "    sentence = Sentence(sent)\n",
    "    tagger.predict(sentence)\n",
    "    print(sentence.to_tagged_string())\n"
   ],
   "metadata": {
    "collapsed": false,
    "pycharm": {
     "is_executing": true
    }
   }
  },
  {
   "cell_type": "code",
   "execution_count": null,
   "outputs": [],
   "source": [
    "sentence = Sentence(file)\n",
    "tagger.predict(sentence)\n",
    "print(sentence.to_dict())\n"
   ],
   "metadata": {
    "collapsed": false,
    "pycharm": {
     "is_executing": true
    }
   }
  }
 ],
 "metadata": {
  "kernelspec": {
   "display_name": "Python 3",
   "language": "python",
   "name": "python3"
  },
  "language_info": {
   "codemirror_mode": {
    "name": "ipython",
    "version": 2
   },
   "file_extension": ".py",
   "mimetype": "text/x-python",
   "name": "python",
   "nbconvert_exporter": "python",
   "pygments_lexer": "ipython2",
   "version": "2.7.6"
  }
 },
 "nbformat": 4,
 "nbformat_minor": 0
}
