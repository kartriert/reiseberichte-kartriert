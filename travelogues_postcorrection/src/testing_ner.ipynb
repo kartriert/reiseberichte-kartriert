{
 "cells": [
  {
   "cell_type": "markdown",
   "source": [
    "# This is a Jupyter notebook for testing how well the [NER model](https://huggingface.co/dbmdz/flair-historic-ner-onb) for historic German performs on our Travelogues corpus.\n",
    "## Please note the comments that are given in each cell.\n",
    "\n",
    "\n",
    "At first, please try downloading the flair and other packages that are needed for using this model."
   ],
   "metadata": {
    "collapsed": false
   }
  },
  {
   "cell_type": "code",
   "execution_count": 92,
   "outputs": [],
   "source": [
    "import glob\n",
    "import pprint\n",
    "import re\n",
    "import json\n",
    "\n",
    "from flair.data import Sentence\n",
    "from flair.models import SequenceTagger\n",
    "import spacy\n",
    "from spacy.tokens import Doc\n",
    "\n",
    "from typing import List\n",
    "\n",
    "from correct_ocr import single_characters, delete_specials, correct_s"
   ],
   "metadata": {
    "collapsed": false
   }
  },
  {
   "cell_type": "code",
   "execution_count": 76,
   "outputs": [],
   "source": [
    "METADATA_PATH: str = '../data/metadata/'\n",
    "VALUES: List[str] = ['Title', 'Contributor']"
   ],
   "metadata": {
    "collapsed": false
   }
  },
  {
   "cell_type": "markdown",
   "source": [
    "The following cell is only needed if problems with spacy.load occur."
   ],
   "metadata": {
    "collapsed": false
   }
  },
  {
   "cell_type": "code",
   "execution_count": null,
   "outputs": [],
   "source": [
    "import spacy.cli\n",
    "spacy.cli.download(\"de_core_news_md\")"
   ],
   "metadata": {
    "collapsed": false
   }
  },
  {
   "cell_type": "markdown",
   "source": [
    "This part will try out the NER on sentences from the Travelogues texts."
   ],
   "metadata": {
    "collapsed": false
   }
  },
  {
   "cell_type": "code",
   "execution_count": 11,
   "outputs": [
    {
     "name": "stderr",
     "output_type": "stream",
     "text": [
      "/Users/sarahreb/.conda/envs/projektseminar_22-23_dh_trier/lib/python3.8/site-packages/huggingface_hub/file_download.py:594: FutureWarning: `cached_download` is the legacy way to download files from the HF hub, please consider upgrading to `hf_hub_download`\n",
      "  warnings.warn(\n"
     ]
    },
    {
     "name": "stdout",
     "output_type": "stream",
     "text": [
      "2022-12-02 13:09:47,020 loading file /Users/sarahreb/.flair/models/flair-historic-ner-onb/63111d37e8f19b08b01200ec38cd2b093d72026e56bbe99a7b25b6e3f8b7da8d.d53b1d9a206921442955a318ba5bbef2af5aabb93c4713d1ed3b8fe8c28cda3f\n",
      "2022-12-02 13:09:48,957 SequenceTagger predicts: Dictionary with 16 tags: <unk>, O, S-PER, S-LOC, B-PER, E-PER, S-ORG, B-LOC, E-LOC, I-PER, B-ORG, E-ORG, I-LOC, I-ORG, <START>, <STOP>\n",
      "Sentence: \"0009 Reyse nach GVINEA , oder ausführliche Beschreibung dasiger GoldGruben ElephantenZähn und SclavenHandels nebst derer Einwohner\" → [\"GVINEA\"/LOC]\n",
      "Sentence: \"Sitten Religion\"\n",
      "Sentence: \"Regiment\"\n",
      "Sentence: \"Kriegen\"\n",
      "Sentence: \"Heyrathen und Begräbnissen\"\n",
      "Sentence: \"auch allen hieselbst befindlichen Thieren\"\n",
      "Sentence: \"so bishero in Europa unbekandt gewesen .\" → [\"Europa\"/LOC]\n",
      "Sentence: \"Jm Frantzösischen herausgegeben durch Wilhelm Boßmann gewesenen Rahtsherrn OberKauffmann und Landes UnterCommandeur von der HolländischOst-Jndischen Compagnie .\" → [\"Wilhelm Boßmann\"/PER, \"HolländischOst-Jndischen Compagnie\"/ORG]\n",
      "Sentence: \"Nun aber ins Hochteutsche übersetzet und mit Kupffern gezieret .\"\n",
      "Sentence: \"Hamburg\" → [\"Hamburg\"/LOC]\n",
      "Sentence: \"\"\n",
      "Sentence: \"Jn Verlegung Samuel Heyl\" → [\"Samuel Heyl\"/PER]\n",
      "Sentence: \"und Johann Gottfried Liebezeit\" → [\"Johann Gottfried Liebezeit\"/PER]\n",
      "Sentence: \"M DCCVIII\"\n",
      "Sentence: \".\"\n",
      "Sentence: \"0010 0011 Vorrede .\"\n",
      "Sentence: \"ES ist insgemein\"\n",
      "Sentence: \"bey allen Autoribus die übliche Gewohnheit daß sie vor ihre Schrifften eine Vorrede setzen\"\n",
      "Sentence: \"\"\n",
      "Sentence: \"Einige halten sie vor eine blosse Zierath und kein wesentliches Stück ihrer Bücher .\"\n",
      "Sentence: \"Andre aber vor eine unumgängliche Nothwendigkeit aus folgenden Ursachen erstens weil die Vorrede einen Vorschmack giebet alles dessen was und wie der Autor solches abzuhandeln gesinnet\" → [\"Andre\"/PER]\n",
      "Sentence: \"sey vermittelst welcher die vom Autore beliebte Ordnung und Einrichtung der Materie gar leichtlich zu begreiffen ;\"\n",
      "Sentence: \"zweytens weil man aus der Vorrede von Fähigkeit eines Autoris urtheilen kan folglich einiges Vergnügen aus dessen Werck sich versprechen .\"\n",
      "Sentence: \"Doch lasse ich dieses unausgemachet und folge dem Exempel derer letzteren .\"\n",
      "Sentence: \"Es ist aber nunmehro die Welt mit so vie 0012 Vorrede .\"\n",
      "Sentence: \"vielen Büchern angefüllet\"\n",
      "Sentence: \"daß fast unmöglich scheinet etwas Neues vorzubringen dafern man nicht eine neue Welt entdecket angesehen fast kein Land keine Nation zu finden darüber nicht allbereit\"\n",
      "Sentence: \"viele Scribenten sich müde geschrieben so daß ich schier in Bedencken gestanden mit dieser meiner neuen Arbeit hervorzukommen .\"\n",
      "Sentence: \"Doch habe ich das alte Sprichwort derer Römer wahr machen wollen Africa bringe alle Tage was Neues in Ansehung\" → [\"Africa\"/LOC]\n",
      "Sentence: \"daß d\"\n"
     ]
    }
   ],
   "source": [
    "# Downloading language model for the spacy pipeline\n",
    "nlp = spacy.load(\"de_core_news_md\")\n",
    "\n",
    "# Read in files – can be noisy OCR\n",
    "file: str = open('../data/test/bossmann_gvinea_1708.txt', 'r').read()[100:2000]\n",
    "\n",
    "# Corrections as implemented by @Lisa Braune\n",
    "\n",
    "file = re.sub('aͤ', 'ä', file)\n",
    "file = re.sub('uͤ', 'ü', file)\n",
    "file = re.sub('oͤ', 'ö', file)\n",
    "\n",
    "file = correct_s(file)\n",
    "file = single_characters(file)\n",
    "file = delete_specials(file)\n",
    "\n",
    "\n",
    "\n",
    "# Throw document into spacy pipeline, sentencise file\n",
    "doc: Doc = nlp(file)\n",
    "sents: list = [sent.text for sent in doc.sents]\n",
    "\n",
    "tagger: SequenceTagger = SequenceTagger.load(\"dbmdz/flair-historic-ner-onb\")\n",
    "\n",
    "for sent in sents:\n",
    "    # Transform each sentence in the list into type Sentence for function availability\n",
    "    sentence = Sentence(sent)\n",
    "    tagger.predict(sentence)\n",
    "    print(sentence.to_tagged_string())\n"
   ],
   "metadata": {
    "collapsed": false
   }
  },
  {
   "cell_type": "code",
   "execution_count": null,
   "outputs": [],
   "source": [
    "sentence = Sentence(file)\n",
    "tagger.predict(sentence)\n",
    "print(sentence.to_dict())\n"
   ],
   "metadata": {
    "collapsed": false,
    "pycharm": {
     "is_executing": true
    }
   }
  },
  {
   "cell_type": "markdown",
   "source": [
    "#### NER on Travelogues titles"
   ],
   "metadata": {
    "collapsed": false
   }
  },
  {
   "cell_type": "code",
   "execution_count": 122,
   "outputs": [],
   "source": [
    "def read_jsons(metadata_path: str, single_file: bool = False, doc_barcode: str = 'Z124117102', values: List[str] = 'Title') -> str:\n",
    "    \"\"\"\n",
    "    Function that aims to retrieve certain metadata information from the JSON files. Can handle single and multiple file attempts.\n",
    "    :param metadata_path: Path for metadata files.\n",
    "    :param single_file: Boolean, False if all files in metadata directory should be observed, True if only a single file should be parsed.\n",
    "    :param doc_barcode: If a single file is parsed, the barcode must be provided.\n",
    "    :param values: List of tags for the information value someone wants to extract, e.g. the title or author of a file.\n",
    "    :return: String of the metadata information.\n",
    "    \"\"\"\n",
    "    if single_file:\n",
    "        indicator = doc_barcode\n",
    "    else:\n",
    "        indicator = '*'\n",
    "\n",
    "    for metadata_file in glob.glob(metadata_path + indicator + '.json')[:10]:\n",
    "        with open(metadata_file, 'r') as f:\n",
    "            object_dict = json.load(f)\n",
    "\n",
    "            for metadata_dict in object_dict:\n",
    "                try:\n",
    "                    if metadata_dict['label'][0]['@value'] in values:\n",
    "                        print(f\"{metadata_dict['label'][0]['@value']}: {metadata_dict['value']}\")\n",
    "                except TypeError:\n",
    "                    if metadata_dict['label'] in values:\n",
    "                        print(f\"{metadata_dict['label']}: {metadata_dict['value']}\")"
   ],
   "metadata": {
    "collapsed": false
   }
  },
  {
   "cell_type": "code",
   "execution_count": 124,
   "outputs": [
    {
     "name": "stdout",
     "output_type": "stream",
     "text": [
      "Contributor: <a href='http://d-nb.info/gnd/129868868'>Bosman, Willem, 1672-</a> - Heyl\n",
      "Title: Reyse nach Guinea, oder ausführliche Beschreibung dasiger Gold-Gruben ... Im Frantzösischen herausgegeben durch Wilhelm Boßmann ... Nun aber ins Hochteutsche übersetzet, und mit Kupffern gezieret\n"
     ]
    }
   ],
   "source": [
    "read_jsons(metadata_path=METADATA_PATH, values=VALUES, single_file=True)"
   ],
   "metadata": {
    "collapsed": false
   }
  },
  {
   "cell_type": "code",
   "execution_count": null,
   "outputs": [],
   "source": [],
   "metadata": {
    "collapsed": false
   }
  }
 ],
 "metadata": {
  "kernelspec": {
   "display_name": "Python 3",
   "language": "python",
   "name": "python3"
  },
  "language_info": {
   "codemirror_mode": {
    "name": "ipython",
    "version": 2
   },
   "file_extension": ".py",
   "mimetype": "text/x-python",
   "name": "python",
   "nbconvert_exporter": "python",
   "pygments_lexer": "ipython2",
   "version": "2.7.6"
  }
 },
 "nbformat": 4,
 "nbformat_minor": 0
}
