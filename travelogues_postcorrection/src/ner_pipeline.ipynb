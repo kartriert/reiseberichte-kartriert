{
 "cells": [
  {
   "cell_type": "markdown",
   "source": [
    "# This is a Jupyter notebook for testing how well the [NER model](https://huggingface.co/dbmdz/flair-historic-ner-onb) for historic German performs on our Travelogues corpus.\n",
    "## Please note the comments that are given in each cell.\n",
    "\n",
    "\n",
    "At first, please try downloading the flair and other packages that are needed for using this model."
   ],
   "metadata": {
    "collapsed": false
   }
  },
  {
   "cell_type": "code",
   "execution_count": 1,
   "outputs": [],
   "source": [
    "import glob\n",
    "import os\n",
    "import pprint\n",
    "import re\n",
    "import json\n",
    "import ntpath\n",
    "\n",
    "from flair.data import Sentence\n",
    "from flair.models import SequenceTagger\n",
    "import spacy\n",
    "from spacy.tokens import Doc\n",
    "\n",
    "from typing import List, Dict\n",
    "\n",
    "from correct_ocr import single_characters, delete_specials, correct_s"
   ],
   "metadata": {
    "collapsed": false
   }
  },
  {
   "cell_type": "code",
   "execution_count": 2,
   "outputs": [],
   "source": [
    "METADATA_PATH: str = '../data/metadata/'\n",
    "VALUES: List[str] = ['Title', 'Contributor']"
   ],
   "metadata": {
    "collapsed": false
   }
  },
  {
   "cell_type": "markdown",
   "source": [
    "The following cell is only needed if problems with spacy.load occur."
   ],
   "metadata": {
    "collapsed": false
   }
  },
  {
   "cell_type": "code",
   "execution_count": null,
   "outputs": [],
   "source": [
    "import spacy.cli\n",
    "spacy.cli.download(\"de_core_news_md\")"
   ],
   "metadata": {
    "collapsed": false
   }
  },
  {
   "cell_type": "markdown",
   "source": [
    "This part will try out the NER on sentences from the Travelogues texts."
   ],
   "metadata": {
    "collapsed": false
   }
  },
  {
   "cell_type": "code",
   "execution_count": 3,
   "outputs": [
    {
     "name": "stderr",
     "output_type": "stream",
     "text": [
      "/Users/sarahreb/.conda/envs/projektseminar_22-23_dh_trier/lib/python3.8/site-packages/huggingface_hub/file_download.py:594: FutureWarning: `cached_download` is the legacy way to download files from the HF hub, please consider upgrading to `hf_hub_download`\n",
      "  warnings.warn(\n"
     ]
    },
    {
     "name": "stdout",
     "output_type": "stream",
     "text": [
      "2022-12-08 07:57:27,205 loading file /Users/sarahreb/.flair/models/flair-historic-ner-onb/63111d37e8f19b08b01200ec38cd2b093d72026e56bbe99a7b25b6e3f8b7da8d.d53b1d9a206921442955a318ba5bbef2af5aabb93c4713d1ed3b8fe8c28cda3f\n",
      "2022-12-08 07:57:34,296 SequenceTagger predicts: Dictionary with 16 tags: <unk>, O, S-PER, S-LOC, B-PER, E-PER, S-ORG, B-LOC, E-LOC, I-PER, B-ORG, E-ORG, I-LOC, I-ORG, <START>, <STOP>\n"
     ]
    }
   ],
   "source": [
    "# Load NER model into flair tagger.\n",
    "tagger: SequenceTagger = SequenceTagger.load(\"dbmdz/flair-historic-ner-onb\")"
   ],
   "metadata": {
    "collapsed": false
   }
  },
  {
   "cell_type": "code",
   "execution_count": null,
   "outputs": [],
   "source": [
    "# Downloading language model for the spacy pipeline\n",
    "nlp = spacy.load(\"de_core_news_md\")\n",
    "\n",
    "# Read in files – can be noisy OCR\n",
    "file: str = open('../data/test/bossmann_gvinea_1708.txt', 'r').read()[100:2000]\n",
    "\n",
    "# Corrections as implemented by @Lisa Braune\n",
    "\n",
    "file = re.sub('aͤ', 'ä', file)\n",
    "file = re.sub('uͤ', 'ü', file)\n",
    "file = re.sub('oͤ', 'ö', file)\n",
    "\n",
    "file = correct_s(file)\n",
    "file = single_characters(file)\n",
    "file = delete_specials(file)\n",
    "\n",
    "\n",
    "\n",
    "# Throw document into spacy pipeline, sentencise file\n",
    "doc: Doc = nlp(file)\n",
    "sents: list = [sent.text for sent in doc.sents]\n",
    "\n",
    "for sent in sents:\n",
    "    # Transform each sentence in the list into type Sentence for function availability\n",
    "    sentence = Sentence(sent)\n",
    "    tagger.predict(sentence)\n",
    "    print(sentence.to_tagged_string())\n"
   ],
   "metadata": {
    "collapsed": false,
    "pycharm": {
     "is_executing": true
    }
   }
  },
  {
   "cell_type": "code",
   "execution_count": null,
   "outputs": [],
   "source": [
    "sentence = Sentence(file)\n",
    "tagger.predict(sentence)\n",
    "print(sentence.to_dict())\n"
   ],
   "metadata": {
    "collapsed": false,
    "pycharm": {
     "is_executing": true
    }
   }
  },
  {
   "cell_type": "markdown",
   "source": [
    "#### NER on Travelogues titles"
   ],
   "metadata": {
    "collapsed": false
   }
  },
  {
   "cell_type": "code",
   "execution_count": 32,
   "outputs": [],
   "source": [
    "def read_jsons(metadata_path: str, single_file: bool = False, doc_barcode: str = 'Z124117102', values=None) -> Dict:\n",
    "    \"\"\"Function that aims to retrieve certain metadata information from the JSON files. Can handle single and multiple file attempts.\n",
    "\n",
    "    :param metadata_path: Path for metadata files.\n",
    "    :param single_file: Boolean, False if all files in metadata directory should be observed, True if only a single file should be parsed.\n",
    "    :param doc_barcode: If a single file is parsed, the barcode must be provided.\n",
    "    :param values: List of tags for the information value someone wants to extract, e.g. the title or author of a file.\n",
    "    :return: String of the metadata information.\n",
    "    \"\"\"\n",
    "\n",
    "    output_dict = {}\n",
    "\n",
    "    if values is None:\n",
    "        values = ['Title', 'Contributor']\n",
    "\n",
    "    if single_file:\n",
    "        indicator = doc_barcode\n",
    "    else:\n",
    "        indicator = '*'\n",
    "\n",
    "    for metadata_file in glob.glob(metadata_path + indicator + '.json')[:10]:\n",
    "        output_dict[re.sub(r'\\.json', '', ntpath.basename(metadata_file))] = {}\n",
    "        with open(metadata_file, 'r') as f:\n",
    "            object_dict = json.load(f)\n",
    "\n",
    "            for metadata_dict in object_dict:\n",
    "                try:\n",
    "                    if metadata_dict['label'][0]['@value'] in values:\n",
    "                        output_dict[re.sub(r'\\.json', '', ntpath.basename(metadata_file))][metadata_dict['label'][0]['@value']] = metadata_dict['value']\n",
    "                        # print(f\"{metadata_dict['label'][0]['@value']}: {metadata_dict['value']}\")\n",
    "                except TypeError:\n",
    "                    if metadata_dict['label'] in values:\n",
    "                        output_dict[re.sub(r'\\.json', '', ntpath.basename(metadata_file))] = {metadata_dict['label'][0]['@value']: metadata_dict['value']}\n",
    "                        # print(f\"{metadata_dict['label']}: {metadata_dict['value']}\")\n",
    "\n",
    "    return output_dict\n"
   ],
   "metadata": {
    "collapsed": false
   }
  },
  {
   "cell_type": "code",
   "execution_count": 33,
   "outputs": [],
   "source": [
    "travelogues_titles: dict = read_jsons(metadata_path=METADATA_PATH)"
   ],
   "metadata": {
    "collapsed": false
   }
  },
  {
   "cell_type": "code",
   "execution_count": 45,
   "outputs": [],
   "source": [
    "def ner_tagged_jsons(titles: dict, tag: str, ner_model: tagger) -> None:\n",
    "    \"\"\"\n",
    "\n",
    "    :param titles:\n",
    "    :param tag:\n",
    "    :param ner_model:\n",
    "    :return:\n",
    "    \"\"\"\n",
    "\n",
    "    for barcode, items in titles.items():\n",
    "        print(f\"Predicting Named Entities in {barcode}.\")\n",
    "        info: dict = {\"type\": \"FeatureCollection\", \"features\": []}\n",
    "        title_sentence = Sentence(items[tag])\n",
    "        ner_model.predict(title_sentence)\n",
    "        for entity in title_sentence.get_spans('ner'):\n",
    "            if entity.get_label(\"ner\").value == 'LOC':\n",
    "                feature_dict = {\n",
    "                    \"type\": \"Feature\", \"properties\": {},\n",
    "                    \"geometry\": {\n",
    "                        \"type\" : \"Point\", \"coordinates\" : []\n",
    "                    }\n",
    "                }\n",
    "                feature_dict[\"properties\"][\"source_label\"] = entity.text\n",
    "                feature_dict[\"properties\"][\"start_position\"] = entity.start_position\n",
    "                feature_dict[\"properties\"][\"end_position\"] = entity.end_position\n",
    "                info[\"features\"].append(feature_dict)\n",
    "                #info[barcode][\"score\"] = entity.get_label(\"ner\").score\n",
    "\n",
    "        json_dump = json.dumps(info, indent=4)\n",
    "        with open('../data/ner_tagged_jsons/' + barcode + '.json', 'w') as f:\n",
    "            f.write(json_dump)"
   ],
   "metadata": {
    "collapsed": false
   }
  },
  {
   "cell_type": "code",
   "execution_count": 46,
   "outputs": [
    {
     "name": "stdout",
     "output_type": "stream",
     "text": [
      "Predicting Named Entities in Z203131903.\n",
      "Predicting Named Entities in Z16446480X.\n",
      "Predicting Named Entities in Z98088202.\n",
      "Predicting Named Entities in Z69858209.\n",
      "Predicting Named Entities in Z186417204.\n",
      "Predicting Named Entities in Z257372603.\n",
      "Predicting Named Entities in Z204099201.\n",
      "Predicting Named Entities in Z16005920X.\n",
      "Predicting Named Entities in Z203234200.\n",
      "Predicting Named Entities in Z221813609.\n"
     ]
    }
   ],
   "source": [
    "ner_tagged_jsons(titles=travelogues_titles, tag='Title', ner_model=tagger)"
   ],
   "metadata": {
    "collapsed": false
   }
  },
  {
   "cell_type": "code",
   "execution_count": null,
   "outputs": [],
   "source": [],
   "metadata": {
    "collapsed": false
   }
  }
 ],
 "metadata": {
  "kernelspec": {
   "display_name": "Python 3",
   "language": "python",
   "name": "python3"
  },
  "language_info": {
   "codemirror_mode": {
    "name": "ipython",
    "version": 2
   },
   "file_extension": ".py",
   "mimetype": "text/x-python",
   "name": "python",
   "nbconvert_exporter": "python",
   "pygments_lexer": "ipython2",
   "version": "2.7.6"
  }
 },
 "nbformat": 4,
 "nbformat_minor": 0
}
